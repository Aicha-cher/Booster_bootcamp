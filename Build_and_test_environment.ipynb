{
 "cells": [
  {
   "cell_type": "markdown",
   "metadata": {},
   "source": [
    "# Build and test the environment\n",
    "\n",
    "**This document explains how to set up your environment for the geocomputing course.**"
   ]
  },
  {
   "cell_type": "markdown",
   "metadata": {},
   "source": [
    "## 1. Install Anaconda\n",
    "\n",
    "First, install [Anaconda for **Python 3.5**](https://www.continuum.io/downloads), following the instructions there.\n",
    "\n",
    "You should [install `git`](https://git-scm.com/book/en/v2/Getting-Started-Installing-Git) for your platform if you can.\n",
    "\n",
    "## 2. Get the course materials\n",
    "\n",
    "If you are using `git`, clone this repo: https://github.com/agile-geoscience/Practical_Programming_for_Geoscientists\n",
    "\n",
    "If not, download this ZIP file: https://github.com/agile-geoscience/Practical_Programming_for_Geoscientists/archive/master.zip\n",
    "\n",
    "Put the folder somewhere you will find it again.\n",
    "\n",
    "The file you are reading is in the top level folder, called `Build_ad_test_environment.ipynb`."
   ]
  },
  {
   "cell_type": "markdown",
   "metadata": {},
   "source": [
    "## 3. Set up the environment\n",
    "\n",
    "Do the following in a terminal:\n",
    "\n",
    "    conda config --add channels conda-forge\n",
    "    conda create -n geocomputing python=3.5 anaconda\n",
    "\n",
    "Start the environment:\n",
    "\n",
    "    source activate geocomputing\n",
    "\n",
    "Now install packages:\n",
    "\n",
    "    conda install obspy\n",
    "    pip install welly\n",
    "    pip install bruges\n",
    "    \n",
    "All of this should go without trouble.\n",
    "\n",
    "\n",
    "## 4. Enter the environment and the repo\n",
    "\n",
    "Now you will need to start running this notebook.\n",
    "\n",
    "    # If you didn't do this already:\n",
    "    git clone https://github.com/agile-geoscience/Practical_Programming_for_Geoscientists\n",
    "    \n",
    "Then...\n",
    "    \n",
    "    cd geocomputing\n",
    "    jupyter notebook Build_and_test_environment.ipynb\n",
    "\n",
    "or if you're already running it, restart its kernel... and we can go on to check the environment."
   ]
  },
  {
   "cell_type": "markdown",
   "metadata": {},
   "source": [
    "## 5. Check anaconda basics\n",
    "\n",
    "If any of this fails, check you did everything above, then get in touch with [Evan](mailto:evan@agilegeoscience.com)."
   ]
  },
  {
   "cell_type": "code",
   "execution_count": null,
   "metadata": {
    "collapsed": false
   },
   "outputs": [],
   "source": [
    "!python -V\n",
    "\n",
    "# Should be 3.5"
   ]
  },
  {
   "cell_type": "code",
   "execution_count": null,
   "metadata": {
    "collapsed": true
   },
   "outputs": [],
   "source": [
    "import numpy as np\n",
    "import matplotlib.pyplot as plt\n",
    "from scipy.signal import ricker"
   ]
  }
 ],
 "metadata": {
  "anaconda-cloud": {},
  "kernelspec": {
   "display_name": "Python [Root]",
   "language": "python",
   "name": "Python [Root]"
  },
  "language_info": {
   "codemirror_mode": {
    "name": "ipython",
    "version": 3
   },
   "file_extension": ".py",
   "mimetype": "text/x-python",
   "name": "python",
   "nbconvert_exporter": "python",
   "pygments_lexer": "ipython3",
   "version": "3.5.2"
  }
 },
 "nbformat": 4,
 "nbformat_minor": 0
}
