{
 "cells": [
  {
   "cell_type": "markdown",
   "metadata": {
    "nbpresent": {
     "id": "1320836f-4cda-4393-b593-6566c1271314"
    },
    "slideshow": {
     "slide_type": "slide"
    }
   },
   "source": [
    "# Fundamentals of Programming\n",
    "\n",
    "Evan Bianco\n",
    "[agilegeoscience](http://agilegeoscience.com), [@EvanBianco](http://twitter.com/EvanBianco)\n",
    "\n",
    "- Variables and Assignment\n",
    "\n",
    "- Native data types\n",
    "\n",
    "- Operators and Expressions\n",
    "\n",
    "- Data collections and data structures\n",
    "\n",
    "- Procedures and control: Loops and Making choices\n",
    "\n",
    "- Getting data, manipulating data\n",
    "\n",
    "- Defining functions and calling functions \n",
    "\n",
    "- Writing and running programs \n",
    "\n",
    "- Objects and classes"
   ]
  },
  {
   "cell_type": "markdown",
   "metadata": {
    "nbpresent": {
     "id": "7795a103-e621-4b3c-b393-3d81d59ae4fc"
    },
    "slideshow": {
     "slide_type": "slide"
    }
   },
   "source": [
    "# Variables and Assignment"
   ]
  },
  {
   "cell_type": "code",
   "execution_count": null,
   "metadata": {
    "collapsed": false,
    "nbpresent": {
     "id": "10761551-be56-4eb9-9c01-fcfa3a75f406"
    },
    "slideshow": {
     "slide_type": "-"
    }
   },
   "outputs": [],
   "source": [
    "x, y = 5, 10"
   ]
  },
  {
   "cell_type": "code",
   "execution_count": null,
   "metadata": {
    "collapsed": true,
    "nbpresent": {
     "id": "65a1b4b1-771f-46cb-b0d3-fd092219c085"
    },
    "slideshow": {
     "slide_type": "-"
    }
   },
   "outputs": [],
   "source": [
    "x, y"
   ]
  },
  {
   "cell_type": "code",
   "execution_count": null,
   "metadata": {
    "collapsed": true,
    "nbpresent": {
     "id": "a75a4bc7-5b4a-429f-bc74-9f562dbdb996"
    },
    "slideshow": {
     "slide_type": "-"
    }
   },
   "outputs": [],
   "source": [
    "x"
   ]
  },
  {
   "cell_type": "code",
   "execution_count": null,
   "metadata": {
    "collapsed": false,
    "nbpresent": {
     "id": "848257c0-f3ac-41e5-9241-92b4628e4676"
    },
    "slideshow": {
     "slide_type": "-"
    }
   },
   "outputs": [],
   "source": [
    "x.__repr__()"
   ]
  },
  {
   "cell_type": "markdown",
   "metadata": {
    "nbpresent": {
     "id": "5efe0bf4-e1ab-413c-ad29-e3c3275731b2"
    },
    "slideshow": {
     "slide_type": "slide"
    }
   },
   "source": [
    "## Checking the `type` of a variable"
   ]
  },
  {
   "cell_type": "code",
   "execution_count": null,
   "metadata": {
    "collapsed": false,
    "nbpresent": {
     "id": "ab76d2da-5e80-4d3e-8047-33a7531130bd"
    },
    "slideshow": {
     "slide_type": "fragment"
    }
   },
   "outputs": [],
   "source": [
    "type(x)"
   ]
  },
  {
   "cell_type": "code",
   "execution_count": null,
   "metadata": {
    "collapsed": false,
    "nbpresent": {
     "id": "d8191010-fc2c-4f7b-9ccc-cbdbcda865cf"
    },
    "slideshow": {
     "slide_type": "fragment"
    }
   },
   "outputs": [],
   "source": [
    "%whos"
   ]
  },
  {
   "cell_type": "code",
   "execution_count": null,
   "metadata": {
    "collapsed": false,
    "nbpresent": {
     "id": "9ebf9cbd-6f07-4410-9cfb-6b1760485305"
    },
    "slideshow": {
     "slide_type": "fragment"
    }
   },
   "outputs": [],
   "source": [
    "del y"
   ]
  },
  {
   "cell_type": "markdown",
   "metadata": {
    "nbpresent": {
     "id": "6f4b5b5f-19fa-4bc0-9974-9da565704d67"
    },
    "slideshow": {
     "slide_type": "slide"
    }
   },
   "source": [
    "# Native data `types`"
   ]
  },
  {
   "cell_type": "code",
   "execution_count": null,
   "metadata": {
    "collapsed": false,
    "nbpresent": {
     "id": "96fd9a70-c2d7-4fee-b14e-ad56414e493b"
    },
    "slideshow": {
     "slide_type": "fragment"
    }
   },
   "outputs": [],
   "source": [
    "z = 1.4 + 2.3"
   ]
  },
  {
   "cell_type": "code",
   "execution_count": null,
   "metadata": {
    "collapsed": false,
    "nbpresent": {
     "id": "c8039d3e-74bf-4d8b-963c-b0e5275bcd22"
    },
    "slideshow": {
     "slide_type": "fragment"
    }
   },
   "outputs": [],
   "source": [
    "print(z)"
   ]
  },
  {
   "cell_type": "code",
   "execution_count": null,
   "metadata": {
    "collapsed": false,
    "nbpresent": {
     "id": "fc3d89ed-4f2a-4f43-9f86-466b7342090b"
    },
    "slideshow": {
     "slide_type": "subslide"
    }
   },
   "outputs": [],
   "source": [
    "c = 2 + 1.5j  # same as writing: complex(2, 1.5) \n",
    "c"
   ]
  },
  {
   "cell_type": "code",
   "execution_count": null,
   "metadata": {
    "collapsed": false,
    "nbpresent": {
     "id": "8e56e465-4ce6-430f-b301-a8ca52f97283"
    },
    "slideshow": {
     "slide_type": "fragment"
    }
   },
   "outputs": [],
   "source": [
    "5 / 3.0"
   ]
  },
  {
   "cell_type": "code",
   "execution_count": null,
   "metadata": {
    "collapsed": false,
    "nbpresent": {
     "id": "ae73619a-4325-4a84-9f4b-20e35d9fe8a3"
    },
    "slideshow": {
     "slide_type": "fragment"
    }
   },
   "outputs": [],
   "source": [
    "5 // 3"
   ]
  },
  {
   "cell_type": "markdown",
   "metadata": {
    "nbpresent": {
     "id": "9689f6a1-02c8-45df-bf09-894813407d27"
    },
    "slideshow": {
     "slide_type": "subslide"
    }
   },
   "source": [
    "#### Question: Why are there 2 kinds of numbers?"
   ]
  },
  {
   "cell_type": "markdown",
   "metadata": {
    "nbpresent": {
     "id": "6ac1e62a-9742-4b3e-ad4e-972cdeebba53"
    },
    "slideshow": {
     "slide_type": "slide"
    }
   },
   "source": [
    "## Strings `str`"
   ]
  },
  {
   "cell_type": "code",
   "execution_count": null,
   "metadata": {
    "collapsed": false,
    "nbpresent": {
     "id": "77223dcc-a931-40f8-9c88-7964d39404d8"
    },
    "slideshow": {
     "slide_type": "fragment"
    }
   },
   "outputs": [],
   "source": [
    "s1 = '#Nordegg:'"
   ]
  },
  {
   "cell_type": "code",
   "execution_count": null,
   "metadata": {
    "collapsed": false,
    "nbpresent": {
     "id": "de15eec6-4c3f-49f5-b91f-3da606fbc08c"
    },
    "slideshow": {
     "slide_type": "-"
    }
   },
   "outputs": [],
   "source": [
    "s1.strip('#')"
   ]
  },
  {
   "cell_type": "code",
   "execution_count": null,
   "metadata": {
    "collapsed": false,
    "nbpresent": {
     "id": "849e4541-597e-41fc-ba8d-f2389ab3c23f"
    },
    "slideshow": {
     "slide_type": "-"
    }
   },
   "outputs": [],
   "source": [
    "s1.startswith('Nor')"
   ]
  },
  {
   "cell_type": "markdown",
   "metadata": {
    "nbpresent": {
     "id": "b49bfcee-7e4d-41ac-a9b5-e4c7f3c7268d"
    },
    "slideshow": {
     "slide_type": "subslide"
    }
   },
   "source": [
    "## `str` indexing (how to count, part 1)\n",
    "\n",
    "----\n",
    "- **Exercise**: return the `e` character in `s`\n"
   ]
  },
  {
   "cell_type": "markdown",
   "metadata": {
    "nbpresent": {
     "id": "dfe2c335-73d3-4aa7-a842-802f1ce1d20a"
    },
    "slideshow": {
     "slide_type": "fragment"
    }
   },
   "source": [
    "Try `help(s)`, `s1?`, `s1??`, `s1.<tab>`, `s1.upper()` , `s1.strip()`, `s1.startswith()`, `s1.pop()`"
   ]
  },
  {
   "cell_type": "markdown",
   "metadata": {
    "nbpresent": {
     "id": "4cc2d898-1a03-4cab-bd6b-8dd087ea48c2"
    },
    "slideshow": {
     "slide_type": "slide"
    }
   },
   "source": [
    "## Can we do add two 'strings' together? "
   ]
  },
  {
   "cell_type": "code",
   "execution_count": null,
   "metadata": {
    "collapsed": false,
    "nbpresent": {
     "id": "9ca69832-db7b-4a55-9160-cf0ea10db0b5"
    },
    "slideshow": {
     "slide_type": "-"
    }
   },
   "outputs": [],
   "source": [
    "s2, s3 = 'Limestone \\n', 'Shale'\n",
    "\n",
    "s2 + s3"
   ]
  },
  {
   "cell_type": "code",
   "execution_count": null,
   "metadata": {
    "collapsed": false,
    "nbpresent": {
     "id": "5e2f0561-9a9e-4554-9b95-1d2e54c1df21"
    }
   },
   "outputs": [],
   "source": [
    "print(s2 + s3)"
   ]
  },
  {
   "cell_type": "code",
   "execution_count": null,
   "metadata": {
    "collapsed": false,
    "nbpresent": {
     "id": "b3dba409-2d7d-47fb-8247-a65885dbc4be"
    }
   },
   "outputs": [],
   "source": [
    "print(s2 * 5)"
   ]
  },
  {
   "cell_type": "code",
   "execution_count": null,
   "metadata": {
    "collapsed": false,
    "nbpresent": {
     "id": "e46f1a05-785f-4f2a-a866-b6b7043b3bdc"
    },
    "slideshow": {
     "slide_type": "fragment"
    }
   },
   "outputs": [],
   "source": [
    "lithology = s + s2 + 'has minor ' + s3 + ' fragments'\n",
    "lithology"
   ]
  },
  {
   "cell_type": "code",
   "execution_count": null,
   "metadata": {
    "collapsed": false,
    "nbpresent": {
     "id": "fdfc6023-3e09-405b-a522-b77c7a5f9a99"
    },
    "slideshow": {
     "slide_type": "fragment"
    }
   },
   "outputs": [],
   "source": [
    "'{0} {1} has minor {2} fragments'.format(s,s2,s3)"
   ]
  },
  {
   "cell_type": "markdown",
   "metadata": {
    "nbpresent": {
     "id": "e7d46a69-8d76-47e6-b3a8-300e908331ed"
    },
    "slideshow": {
     "slide_type": "slide"
    }
   },
   "source": [
    "## String methods and string formatting\n",
    "----\n",
    "- **Exercise**: Use a combination of string methods on `s` text formatting to produce the following output:\n",
    "\n",
    "    `> The Nordegg limestone has minor shale fragments` \n",
    "    \n",
    "    (ensure sentence case and remove `'#'`, `':'`, `'\\n')"
   ]
  },
  {
   "cell_type": "markdown",
   "metadata": {
    "nbpresent": {
     "id": "440c99b8-1de8-4405-8fbb-d4314b1ea544"
    },
    "slideshow": {
     "slide_type": "slide"
    }
   },
   "source": [
    "# Operators and Expressions"
   ]
  },
  {
   "cell_type": "markdown",
   "metadata": {
    "collapsed": true,
    "nbpresent": {
     "id": "86457721-010e-41eb-865f-f8b3c7ee7fff"
    },
    "slideshow": {
     "slide_type": "fragment"
    }
   },
   "source": [
    "* mathematical operations\n",
    "\n",
    "* comparison operations\n",
    "\n",
    "* bitwise operations\n",
    "\n",
    "* augmented assignment, copies, and pointers\n",
    "\n",
    "* boolean expressions\n",
    "\n",
    "* conversion functions"
   ]
  },
  {
   "cell_type": "markdown",
   "metadata": {
    "collapsed": true,
    "nbpresent": {
     "id": "a99e0334-4de8-45d1-a5a5-91b4332e3193"
    },
    "slideshow": {
     "slide_type": "subslide"
    }
   },
   "source": [
    "### mathematical operations"
   ]
  },
  {
   "cell_type": "code",
   "execution_count": null,
   "metadata": {
    "collapsed": false,
    "nbpresent": {
     "id": "23123002-83af-43c6-ba9e-cff4a336d0db"
    },
    "slideshow": {
     "slide_type": "fragment"
    }
   },
   "outputs": [],
   "source": []
  },
  {
   "cell_type": "markdown",
   "metadata": {
    "collapsed": true,
    "nbpresent": {
     "id": "0c2f9ec1-0b92-46e8-b18a-adbf9df3161c"
    },
    "slideshow": {
     "slide_type": "subslide"
    }
   },
   "source": [
    "### comparison operations"
   ]
  },
  {
   "cell_type": "code",
   "execution_count": null,
   "metadata": {
    "collapsed": false,
    "nbpresent": {
     "id": "81b36435-27cc-4260-8093-82b03ba8d16f"
    },
    "slideshow": {
     "slide_type": "fragment"
    }
   },
   "outputs": [],
   "source": []
  },
  {
   "cell_type": "markdown",
   "metadata": {
    "nbpresent": {
     "id": "6d6f1016-38a5-4d5e-b0ab-bde9aad67bde"
    },
    "slideshow": {
     "slide_type": "subslide"
    }
   },
   "source": [
    "### augmented assignment, copies and pointers"
   ]
  },
  {
   "cell_type": "code",
   "execution_count": null,
   "metadata": {
    "collapsed": false,
    "nbpresent": {
     "id": "d1e446fb-643f-4238-b46e-d5363de6f1ea"
    },
    "slideshow": {
     "slide_type": "fragment"
    }
   },
   "outputs": [],
   "source": [
    "y"
   ]
  },
  {
   "cell_type": "markdown",
   "metadata": {
    "nbpresent": {
     "id": "8d6e9a0f-deff-46a1-94c4-e37fa1d846b0"
    },
    "slideshow": {
     "slide_type": "slide"
    }
   },
   "source": [
    "# Data collections and data structures\n",
    "\n",
    "`list, dict, tuples, sets`"
   ]
  },
  {
   "cell_type": "markdown",
   "metadata": {
    "nbpresent": {
     "id": "950727d6-a5ae-41cb-a540-3a1d0f9b5b18"
    },
    "slideshow": {
     "slide_type": "slide"
    }
   },
   "source": [
    "### `list`\n",
    "\n",
    "Lists in Python are one-dimensional, ordered containers whose elements may be any Python objects. Lists are *mutable* and have methods for adding and removing elements to and from themselves. The literal syntax for lists is surround commas seperated values with square brackets (`[]`). The square brackets are a syntactic hint that lists are indexable."
   ]
  },
  {
   "cell_type": "code",
   "execution_count": null,
   "metadata": {
    "collapsed": false,
    "nbpresent": {
     "id": "6425cc51-8bfa-45b3-a908-abeb6cce4646"
    },
    "slideshow": {
     "slide_type": "subslide"
    }
   },
   "outputs": [],
   "source": [
    "society = 'C.S.P.G'  # this is a string\n",
    "society.split('.')"
   ]
  },
  {
   "cell_type": "code",
   "execution_count": null,
   "metadata": {
    "collapsed": true
   },
   "outputs": [],
   "source": [
    "event = 'convention'"
   ]
  },
  {
   "cell_type": "code",
   "execution_count": null,
   "metadata": {
    "collapsed": false
   },
   "outputs": [],
   "source": [
    "society + ' ' + event"
   ]
  },
  {
   "cell_type": "code",
   "execution_count": null,
   "metadata": {
    "collapsed": false
   },
   "outputs": [],
   "source": [
    "society.split('.') + list(' ') +list(event)"
   ]
  },
  {
   "cell_type": "code",
   "execution_count": null,
   "metadata": {
    "collapsed": false,
    "nbpresent": {
     "id": "4b6ad5f6-b2f0-459e-b04e-d2897360c679"
    },
    "slideshow": {
     "slide_type": "subslide"
    }
   },
   "outputs": [],
   "source": [
    "fib = [1, 1, 2, 3, 5, 8] + [13]\n",
    "fib.append(13)"
   ]
  },
  {
   "cell_type": "code",
   "execution_count": null,
   "metadata": {
    "collapsed": true,
    "nbpresent": {
     "id": "b07e502f-1364-4620-8772-a0fc4cef921a"
    },
    "slideshow": {
     "slide_type": "subslide"
    }
   },
   "outputs": [],
   "source": [
    "del(fib)"
   ]
  },
  {
   "cell_type": "code",
   "execution_count": null,
   "metadata": {
    "collapsed": false,
    "nbpresent": {
     "id": "33830a4a-2948-4af4-959d-a1c395e1e674"
    },
    "slideshow": {
     "slide_type": "subslide"
    }
   },
   "outputs": [],
   "source": [
    "fib.extend([21.0, 34.0, 55.0])\n",
    "fib"
   ]
  },
  {
   "cell_type": "code",
   "execution_count": null,
   "metadata": {
    "collapsed": false,
    "nbpresent": {
     "id": "67f9def4-5574-4102-a2dd-fc2cb10de1ba"
    },
    "slideshow": {
     "slide_type": "subslide"
    }
   },
   "outputs": [],
   "source": [
    "fib += [89.0, 144.0]\n",
    "fib"
   ]
  },
  {
   "cell_type": "markdown",
   "metadata": {
    "nbpresent": {
     "id": "b0fe1e97-15f6-458b-8ef5-8dcf01409538"
    },
    "slideshow": {
     "slide_type": "slide"
    }
   },
   "source": [
    "### Indexing, slicing, striding"
   ]
  },
  {
   "cell_type": "markdown",
   "metadata": {
    "nbpresent": {
     "id": "fce7f2e5-5631-4614-be73-f518a9aeac6d"
    },
    "slideshow": {
     "slide_type": "-"
    }
   },
   "source": [
    "In addition to accessing a single element in a `list` or `string`, we can also *slice* or *stride* into data structures to access multiple elements at once."
   ]
  },
  {
   "cell_type": "code",
   "execution_count": null,
   "metadata": {
    "collapsed": false,
    "nbpresent": {
     "id": "97d1228a-7bb0-4d0f-a839-8935e43df69a"
    },
    "slideshow": {
     "slide_type": "subslide"
    }
   },
   "outputs": [],
   "source": [
    "name = 'Cambrian (C)'\n",
    "name"
   ]
  },
  {
   "cell_type": "code",
   "execution_count": null,
   "metadata": {
    "collapsed": true,
    "nbpresent": {
     "id": "5ea5652b-2b48-4f43-92fb-2ccf6ab0f50a"
    },
    "slideshow": {
     "slide_type": "slide"
    }
   },
   "outputs": [],
   "source": [
    "name = 'Cambrian (C)'"
   ]
  },
  {
   "cell_type": "markdown",
   "metadata": {
    "nbpresent": {
     "id": "aaee323d-f0d2-4e40-bf53-adf84c6ab171"
    },
    "slideshow": {
     "slide_type": "-"
    }
   },
   "source": [
    "## Without using the Python interpreter, what is the expected output of the following commands?:\n",
    "\n",
    "- a) `name[:7]`"
   ]
  },
  {
   "cell_type": "markdown",
   "metadata": {
    "nbpresent": {
     "id": "09f23d02-5070-45ce-abab-05b8f8a33d91"
    },
    "slideshow": {
     "slide_type": "fragment"
    }
   },
   "source": [
    "- b) `name[:-4]`"
   ]
  },
  {
   "cell_type": "markdown",
   "metadata": {
    "nbpresent": {
     "id": "bd3dfb40-ab10-4621-82fc-c25f1d12a94b"
    },
    "slideshow": {
     "slide_type": "fragment"
    }
   },
   "source": [
    "- c) `name[3:7]`"
   ]
  },
  {
   "cell_type": "markdown",
   "metadata": {
    "nbpresent": {
     "id": "95a0ae39-def8-4824-834c-84c4f6aab81c"
    },
    "slideshow": {
     "slide_type": "fragment"
    }
   },
   "source": [
    "- d) `name[::2]`"
   ]
  },
  {
   "cell_type": "code",
   "execution_count": null,
   "metadata": {
    "collapsed": false,
    "nbpresent": {
     "id": "ad3e43f6-d4c0-41ce-91fe-15ddf334e2b8"
    },
    "slideshow": {
     "slide_type": "slide"
    }
   },
   "outputs": [],
   "source": [
    "age_names = ['Cambrian (C)', 'Ordivician (O)',  'Silurian (S)',  'Devonian (D)', \n",
    "           'Mississipian (M)', 'Pennsylvanian (IP)', 'Permian (P)',\n",
    "           'Triassic (Tr)', 'Jurassic (J)',  'Cretaceous (C)', \n",
    "           'Tertiary (T)', 'Quaternary (Q)']"
   ]
  },
  {
   "cell_type": "markdown",
   "metadata": {
    "nbpresent": {
     "id": "2ac996b5-ecad-4af9-92bb-4de00d4fbf41"
    },
    "slideshow": {
     "slide_type": "subslide"
    }
   },
   "source": [
    "## Indexing practice\n",
    "\n",
    "----\n",
    "**Exercise**:\n",
    "\n",
    "- return the string: \n",
    "\n",
    "    ` > Triassic (Tr)` \n",
    "\n",
    "\n",
    "- return just the word: \n",
    "\n",
    "    ` > Triassic`\n",
    "\n",
    "\n",
    "- return the abbreviation:\n",
    "\n",
    "    ` > (Tr)` enclosed in parenthesis\n",
    "\n",
    "\n",
    "- return just the abbreviation: \n",
    "\n",
    "    ` > Tr` \n",
    "\n",
    "\n",
    "(bonus points if you can do (d) all in one line)"
   ]
  },
  {
   "cell_type": "markdown",
   "metadata": {
    "nbpresent": {
     "id": "13cc9d13-fa70-4f2f-8b23-5bfbb35af61a"
    },
    "slideshow": {
     "slide_type": "slide"
    }
   },
   "source": [
    "## Nested `list`\n",
    "\n",
    "lists can contain anything*"
   ]
  },
  {
   "cell_type": "code",
   "execution_count": null,
   "metadata": {
    "collapsed": false,
    "nbpresent": {
     "id": "a4cb7afc-c3d1-4775-b621-fe50cfb0fd42"
    },
    "slideshow": {
     "slide_type": "fragment"
    }
   },
   "outputs": [],
   "source": [
    "age_list = [['Cambrian (C)', [544,495]], ['Ordivician (O)', [495, 492] ], \n",
    "            ['Silurian (S)', [442, 416]], ['Devonian (D)',[416, 354]], \n",
    "            ['Mississipian (M)', [354, 324]], ['Pennsylvanian (IP)', [324, 295]], \n",
    "            ['Permian (P)', [304, 248]], ['Triassic (Tr)', [248, 205]], \n",
    "            ['Jurassic (J)', [205, 144]], ['Cretaceous (C)', [160, 65]], \n",
    "            ['Tertiary (T)', [65, 1.8]], ['Quaternary (Q)']\n",
    "            ]\n",
    "# But at some point it just gets impractical"
   ]
  },
  {
   "cell_type": "markdown",
   "metadata": {
    "nbpresent": {
     "id": "24687ebb-a0c3-429e-869e-9e7a8bfeaa6f"
    },
    "slideshow": {
     "slide_type": "slide"
    }
   },
   "source": [
    "----\n",
    "**Exercise**: what is the expected output of:\n",
    "\n",
    "* a) `age_intervals[:2]`\n",
    "\n",
    "* b) `age_intervals[6]`\n",
    "\n",
    "* c) what command would you type to return the age of the end of the Permian, 248?\n",
    "\n",
    "* d) the start of the Cretaceous is wrong (it should be 144). Change it to the correct value\n",
    "\n",
    "* e) We've lost the dates for the Quaternary Period [1.8 mya to present (0)]. Index into that entry, and append it."
   ]
  },
  {
   "cell_type": "code",
   "execution_count": null,
   "metadata": {
    "collapsed": true,
    "nbpresent": {
     "id": "55bc2541-1fb6-4119-8991-4e11e522a9ee"
    },
    "slideshow": {
     "slide_type": "fragment"
    }
   },
   "outputs": [],
   "source": [
    "# your code here"
   ]
  },
  {
   "cell_type": "code",
   "execution_count": null,
   "metadata": {
    "collapsed": false,
    "nbpresent": {
     "id": "dd542ce6-9378-411e-b3b8-4b4ab2ffcb3a"
    }
   },
   "outputs": [],
   "source": [
    "ages = {'Cambrian': {\"Abbreviation\": \"C\", \"Start\": \"544\", \"End\": \"495\"},\n",
    "        'Ordivician': {\"Abbreviation\": \"O\", \"Start\": \"495\", \"End\": \"492\"},  \n",
    "        'Silurian': {\"Abbreviation\": \"S\", \"Start\": \"442\", \"End\": \"416\"}, \n",
    "        'Devonian': {\"Abbreviation\": \"D\", \"Start\": \"416\", \"End\": \"354\"},\n",
    "        'Mississipian': {\"Abbreviation\": \"M\", \"Start\": \"354\", \"End\": \"324\"},\n",
    "        'Pennsylvanian': {\"Abbreviation\": \"IP\", \"Start\": \"324\", \"End\": \"295\"}, \n",
    "        'Permian': {\"Abbreviation\": \"P\", \"Start\": \"304\", \"End\": \"248\"},\n",
    "        'Triassic': {\"Abbreviation\": \"Tr\", \"Start\": \"248\", \"End\": \"205\"},\n",
    "        'Jurassic': {\"Abbreviation\": \"J\", \"Start\": \"205\", \"End\": \"144\"}, \n",
    "        'Cretaceous': {\"Abbreviation\": \"C\", \"Start\": \"144\", \"End\": \"65\"}, \n",
    "        'Tertiary': {\"Abbreviation\": \"T\", \"Start\": \"65\", \"End\": \"1.8\"},\n",
    "        'Quaternary': {\"Abbreviation\": \"Q\", \"Start\": \"1.8\", \"End\": \"0\"}\n",
    "}\n"
   ]
  },
  {
   "cell_type": "markdown",
   "metadata": {
    "nbpresent": {
     "id": "abf9be54-0a1e-42e1-af62-1b5b762dba6f"
    },
    "slideshow": {
     "slide_type": "slide"
    }
   },
   "source": [
    "### `dicts`\n",
    "\n",
    "Dictionaries are hands down *the most important* data structure in Python. Everything in Python is a dictionary. A dictionary, or `dict`, is a mutable, unordered collection of unique key / value pairs. "
   ]
  },
  {
   "cell_type": "markdown",
   "metadata": {
    "nbpresent": {
     "id": "37ecbc23-14f7-423f-8a41-2960650cd815"
    },
    "slideshow": {
     "slide_type": "slide"
    }
   },
   "source": [
    "`timescale = dict([(k1,v1),(k1,v1),(k1,v1)])`"
   ]
  },
  {
   "cell_type": "markdown",
   "metadata": {
    "nbpresent": {
     "id": "8f074605-ebe1-4058-a51a-a77c9a578f39"
    },
    "slideshow": {
     "slide_type": "slide"
    }
   },
   "source": [
    "### `tuples`\n",
    "\n",
    "*Tuples* are the immutable form of lists. They behave almost exactly the same as lists in every way except that you cannot change any of their values. There are no `append()` or `extend()` methods, and there are no *in-place* operators. \n",
    "\n",
    "They also differ from lists in their syntax. They are so central to how Python works, that *tuples* are defined by commas. Oftentimes, tuples will be seen surrounded by parentheses. These parentheses only serve to group actions or make the code more readable, not to actually define tuples."
   ]
  },
  {
   "cell_type": "code",
   "execution_count": null,
   "metadata": {
    "collapsed": true,
    "nbpresent": {
     "id": "385b0591-c285-48b9-92f7-3baa1f54c327"
    },
    "slideshow": {
     "slide_type": "fragment"
    }
   },
   "outputs": [],
   "source": [
    "a = 1,2,3,4  # a length-4 tuple\n",
    "b = (42,)    # length-1 tuple defined by the comma\n",
    "c = (42)     # not a tuple, just the number 42\n",
    "d = ()       # length-0 tuple- no commas means no elements"
   ]
  },
  {
   "cell_type": "markdown",
   "metadata": {
    "nbpresent": {
     "id": "037a05fa-13fe-433d-a7db-f9909a297e56"
    },
    "slideshow": {
     "slide_type": "slide"
    }
   },
   "source": [
    "You can concatenate tuples together in the same way as lists, but be careful about the order of opeartions. This is where parentheses come in handy,"
   ]
  },
  {
   "cell_type": "markdown",
   "metadata": {
    "nbpresent": {
     "id": "d631ec6e-8951-492c-9eb2-b78b70beecfb"
    },
    "slideshow": {
     "slide_type": "subslide"
    }
   },
   "source": [
    "(1, 2) + (3, 4)"
   ]
  },
  {
   "cell_type": "code",
   "execution_count": null,
   "metadata": {
    "collapsed": false,
    "nbpresent": {
     "id": "8a67f7ba-b0e1-48d9-a419-d54f8bb4a7db"
    },
    "slideshow": {
     "slide_type": "-"
    }
   },
   "outputs": [],
   "source": [
    "(1,2)+(3,4)"
   ]
  },
  {
   "cell_type": "markdown",
   "metadata": {
    "nbpresent": {
     "id": "44dfc8e9-c2f1-43ca-a06c-b5b1d6c42b83"
    },
    "slideshow": {
     "slide_type": "subslide"
    }
   },
   "source": [
    "Note that even though tuples are immutable, they may have mutable elements. Suppose that we have a list embedded in a tuple. This list may be modified in-place even though the list may not be removed or replaced wholesale:"
   ]
  },
  {
   "cell_type": "code",
   "execution_count": null,
   "metadata": {
    "collapsed": false,
    "nbpresent": {
     "id": "d6008d47-4b1a-4d34-a01b-32702b581386"
    }
   },
   "outputs": [],
   "source": [
    "x = 1.0, [2, 4], 16\n",
    "x"
   ]
  },
  {
   "cell_type": "code",
   "execution_count": null,
   "metadata": {
    "collapsed": false
   },
   "outputs": [],
   "source": [
    "x[1].append(8)\n",
    "x"
   ]
  },
  {
   "cell_type": "markdown",
   "metadata": {
    "nbpresent": {
     "id": "c49ef292-ce07-47d7-a448-344fdb5ccfd5"
    },
    "slideshow": {
     "slide_type": "slide"
    }
   },
   "source": [
    "### `Sets`"
   ]
  },
  {
   "cell_type": "markdown",
   "metadata": {
    "nbpresent": {
     "id": "07b46d4e-b591-46e7-82f3-de4ca2ce7a24"
    }
   },
   "source": [
    "Instances of the `set` type are equivalent to mathematical sets. Like their math counterparts, literal sets in Python are defined by comma seperated values between curly braces ({}). Sets are unordered containers of unique values. Duplicated elements are ignored. Beacuse they are unordered, sets are not sequences and cannot be duplicated."
   ]
  },
  {
   "cell_type": "code",
   "execution_count": null,
   "metadata": {
    "collapsed": false,
    "nbpresent": {
     "id": "f36e399e-ac31-4699-952e-fd4798350742"
    },
    "slideshow": {
     "slide_type": "subslide"
    }
   },
   "outputs": [],
   "source": [
    "# a literal set formed with elements of various types\n",
    "{1.0, 10, \"one hundred\", (1, 0, 0, 0)}"
   ]
  },
  {
   "cell_type": "code",
   "execution_count": null,
   "metadata": {
    "collapsed": false,
    "nbpresent": {
     "id": "636b28bd-9f65-495e-9740-20e98ce2c07b"
    }
   },
   "outputs": [],
   "source": [
    "# a literal set OF special values\n",
    "{True, False, None, \"\", 0.0, 0}"
   ]
  },
  {
   "cell_type": "code",
   "execution_count": null,
   "metadata": {
    "collapsed": false,
    "nbpresent": {
     "id": "28430b72-ac2b-4d53-bf9a-3977a75f6d53"
    }
   },
   "outputs": [],
   "source": [
    "# conversion from a list to a set\n",
    "set([2.0, 4, \"eight\", (16,), 4, 4, 2.0])"
   ]
  },
  {
   "cell_type": "markdown",
   "metadata": {
    "nbpresent": {
     "id": "c465c1de-7904-4b4c-82dd-91d55a875844"
    }
   },
   "source": [
    "Here's a good time to take a break\n",
    "\n",
    "- Variables and Assignment\n",
    "- Native data types\n",
    "- Operators and Expressions\n",
    "- Data collections and data structures\n",
    "- <font color='lightgrey'>Procedures and control: Loops and Making choices</font>\n",
    "- <font color='lightgrey'>Getting data, manipulating data</font>\n",
    "- <font color='lightgrey'>Defining functions and calling functions</font>\n",
    "- <font color='lightgrey'>Writing and running programs</font>\n",
    "- <font color='lightgrey'>Objects and classes</font>"
   ]
  },
  {
   "cell_type": "markdown",
   "metadata": {
    "nbpresent": {
     "id": "c1987c20-2fb9-44be-8c48-3aae28c5f247"
    }
   },
   "source": [
    "----\n",
    "**Exercise** There are four lists given in the code block below:"
   ]
  },
  {
   "cell_type": "code",
   "execution_count": null,
   "metadata": {
    "collapsed": true,
    "nbpresent": {
     "id": "15f58039-f668-4227-acf9-7fa0d6657a99"
    }
   },
   "outputs": [],
   "source": [
    "layers = ['shale','shale','shale','sand','sand','sand','sand','shale','shale','shale']\n",
    "depth = [10, 11, 12, 13, 14, 15, 16, 17, 18, 19]\n",
    "porosity = [2, 3, 2, 14, 18, 17, 14, 2, 3, 3]\n",
    "gamma = [85, 90, 77, 23, 27, 31, 25, 110, 113, 108]"
   ]
  },
  {
   "cell_type": "markdown",
   "metadata": {},
   "source": [
    "* a) use a conditional expression to see if `layers` and `depth` have the same number of elements\n",
    "* b) using `plt.plot()` create a plot of the list `porosity`\n",
    "* c) make a `depth` vs `porosity` plot so depth is vertically downwards\n",
    "* d) Use `plt.scatter()` to make a cross plot of `gamma` vs `porosity`\n",
    "* f) Explore other keyword arguments for `plt.plot()` and `plt.scatter` to pretty things up\n",
    "* bonus e) Use the keyword `c` in the call to `scatter` to distinguish between sand and shale\n",
    "* g) create a new list called `pay` that has the integer 1 for sand and 0 for shale.\n"
   ]
  },
  {
   "cell_type": "markdown",
   "metadata": {
    "nbpresent": {
     "id": "94c45cf5-f910-4706-80e5-ebe124a4321b"
    },
    "slideshow": {
     "slide_type": "slide"
    }
   },
   "source": [
    "# Procedures and control: Loops and Making choices"
   ]
  },
  {
   "cell_type": "markdown",
   "metadata": {
    "nbpresent": {
     "id": "ea0e9495-9e13-44a9-806f-0ca54994d376"
    },
    "slideshow": {
     "slide_type": "slide"
    }
   },
   "source": [
    "## Loops\n",
    "\n",
    "*Doing stuff many times*\n",
    "\n",
    "the <code><font color=\"green\">while</font></code> loop\n",
    "\n",
    "the <code><font color=\"green\">for</font></code> loop"
   ]
  },
  {
   "cell_type": "code",
   "execution_count": null,
   "metadata": {
    "collapsed": false,
    "nbpresent": {
     "id": "a64c7657-f324-48fe-acf6-53ee329503c8"
    },
    "slideshow": {
     "slide_type": "-"
    }
   },
   "outputs": [],
   "source": [
    "layers = ['shale','shale','shale','sand','sand','sand','sand','shale','shale','shale']"
   ]
  },
  {
   "cell_type": "code",
   "execution_count": null,
   "metadata": {
    "collapsed": false,
    "nbpresent": {
     "id": "a465059b-89eb-4d99-846e-35b526b02659"
    }
   },
   "outputs": [],
   "source": [
    "# for loop syntax\n",
    "for rock in layers:\n",
    "    print(rock) "
   ]
  },
  {
   "cell_type": "markdown",
   "metadata": {
    "nbpresent": {
     "id": "206dd9de-6e00-4577-86f8-35c8f87913b3"
    }
   },
   "source": [
    "<font color=\"#0A5394\">**\\*iteration, *iterable**</font>"
   ]
  },
  {
   "cell_type": "markdown",
   "metadata": {
    "nbpresent": {
     "id": "7ff5ec83-a6bf-44d7-b424-950738f74ad1"
    }
   },
   "source": [
    "## List comprehension"
   ]
  },
  {
   "cell_type": "code",
   "execution_count": null,
   "metadata": {
    "collapsed": false,
    "nbpresent": {
     "id": "ce4a3ff2-220e-4d6d-858a-ef8418129f13"
    }
   },
   "outputs": [],
   "source": [
    "[val*2 for val in gamma]"
   ]
  },
  {
   "cell_type": "markdown",
   "metadata": {
    "nbpresent": {
     "id": "4be22f6b-b5bd-4ba5-b9d5-1806d4843eb4"
    },
    "slideshow": {
     "slide_type": "slide"
    }
   },
   "source": [
    "## Making choices\n",
    "\n",
    "The <code><font color=\"green\">if</font></code> statement"
   ]
  },
  {
   "cell_type": "code",
   "execution_count": null,
   "metadata": {
    "collapsed": false,
    "nbpresent": {
     "id": "3c7e7cd6-b212-4e25-9baf-e68b57a110ec"
    }
   },
   "outputs": [],
   "source": [
    "layers = ['shale','shale','shale','sand','sand','sand','sand','shale','shale','shale']\n",
    "# the if statement:"
   ]
  },
  {
   "cell_type": "markdown",
   "metadata": {
    "nbpresent": {
     "id": "6f2cedbd-3a39-4699-88e8-82a46b872e60"
    }
   },
   "source": [
    "<font color=\"#0A5394\">**\\*conditionals**</font>"
   ]
  },
  {
   "cell_type": "markdown",
   "metadata": {
    "nbpresent": {
     "id": "e5c96adf-4ac2-4f94-a7dd-427182bd62eb"
    },
    "slideshow": {
     "slide_type": "slide"
    }
   },
   "source": [
    "# Getting data..."
   ]
  },
  {
   "cell_type": "markdown",
   "metadata": {
    "nbpresent": {
     "id": "7294fedc-e1d0-40bb-9aa1-597732da0b06"
    },
    "slideshow": {
     "slide_type": "slide"
    }
   },
   "source": [
    "## ... from text files"
   ]
  },
  {
   "cell_type": "markdown",
   "metadata": {
    "nbpresent": {
     "id": "38e66101-213b-4a6d-85b2-b90ae8cc3d77"
    }
   },
   "source": [
    "You can explicitly read from and write to files directly in your code. Python makes working with files pretty simple.\n",
    "\n",
    "The first step to working with a text file is to obtain a 'file object' using `open`."
   ]
  },
  {
   "cell_type": "code",
   "execution_count": null,
   "metadata": {
    "collapsed": true,
    "nbpresent": {
     "id": "2d8bd90d-449f-455c-ad70-8075dab3fe85"
    },
    "slideshow": {
     "slide_type": "slide"
    }
   },
   "outputs": [],
   "source": [
    "file_for_reading = open('reading_file.txt', 'r')  # 'r' means read-only\n",
    "file_for_writing = open('writing_file.txt', 'w')  # 'w' is for write - will destroy file if already exists\n",
    "file_for_appending = open('appending_file.txt', 'a')  # 'a' is for appending to the end of a file.\n",
    "file_for_writing.close()  # don't forget to close your files when you're done."
   ]
  },
  {
   "cell_type": "code",
   "execution_count": null,
   "metadata": {
    "collapsed": false,
    "nbpresent": {
     "id": "7a424d47-4194-4579-9981-d0dd447cb86d"
    }
   },
   "outputs": [],
   "source": [
    "## Open the file with read only permit\n",
    "fname = 'data/L30_tops.txt'\n",
    "\n",
    "with open(fname, 'r') as f:\n",
    "    header = f.readline()    # is string containing the next line in the file\n",
    "    body = f.readlines()     # The variable \"lines\" is a list containing all lines"
   ]
  },
  {
   "cell_type": "markdown",
   "metadata": {
    "nbpresent": {
     "id": "e1a62410-17be-4b98-be3e-fde19bcb6826"
    },
    "slideshow": {
     "slide_type": "slide"
    }
   },
   "source": [
    "Every line you get this way ends in a newline character, `\\n`, so you'll often want to `strip()` it before doing anything with it."
   ]
  },
  {
   "cell_type": "code",
   "execution_count": null,
   "metadata": {
    "collapsed": false,
    "nbpresent": {
     "id": "e7df2b22-597d-4a71-b6c5-6a8a8c36783b"
    },
    "slideshow": {
     "slide_type": "subslide"
    }
   },
   "outputs": [],
   "source": [
    "fname = 'data/L30_tops.txt'\n",
    "with open(fname) as f:\n",
    "    for line in f.readlines():\n",
    "        if not line.startswith('#'):\n",
    "            print(line.strip())"
   ]
  },
  {
   "cell_type": "markdown",
   "metadata": {
    "nbpresent": {
     "id": "9cd45a79-0ddb-4884-838c-03fcba9f3252"
    },
    "slideshow": {
     "slide_type": "-"
    }
   },
   "source": [
    "----\n",
    "**Exercise** create a tops dictionary:\n",
    "\n",
    "* a) Modify the code snippet above to create a `dict` call tops, containing the formation name as the `key` and the `depth` as the value\n",
    "* b) What is the thickness between the `Wyandot FM` and the `Base O-Marker`?"
   ]
  },
  {
   "cell_type": "code",
   "execution_count": null,
   "metadata": {
    "collapsed": false
   },
   "outputs": [],
   "source": [
    "tops['Base O-Marker'] - tops['WyanDot FM']"
   ]
  },
  {
   "cell_type": "markdown",
   "metadata": {
    "nbpresent": {
     "id": "a4b90ca4-0d96-4cab-90d3-d16b1b8f9c43"
    },
    "slideshow": {
     "slide_type": "slide"
    }
   },
   "source": [
    "# Defining and calling functions\n",
    "\n",
    "the <code><font color=\"green\">def</font></code> statement"
   ]
  },
  {
   "cell_type": "code",
   "execution_count": null,
   "metadata": {
    "collapsed": true,
    "nbpresent": {
     "id": "e7ff2413-e02a-4c18-8cba-419df7bc4e9e"
    }
   },
   "outputs": [],
   "source": [
    "def myfunc(args):\n",
    "    \"\"\"\n",
    "    Documentation string\n",
    "    \"\"\"\n",
    "    # statement\n",
    "    # statement\n",
    "    return # optional"
   ]
  },
  {
   "cell_type": "markdown",
   "metadata": {
    "nbpresent": {
     "id": "49a88b84-5791-4b92-89bb-525dd0253dd0"
    }
   },
   "source": [
    "<font color=\"#0A5394\">**\\*scope**</font>"
   ]
  },
  {
   "cell_type": "markdown",
   "metadata": {
    "nbpresent": {
     "id": "be8079ad-9877-44cd-b3fd-1f61a7107084"
    }
   },
   "source": [
    "----\n",
    "\n",
    "**Exercise**: write a function called `vshale` that that converts the list of `gamma` into a Vshale measurement. Use 20 API for 100% sand and use 150 API for 100% shale"
   ]
  },
  {
   "cell_type": "code",
   "execution_count": null,
   "metadata": {
    "collapsed": true,
    "nbpresent": {
     "id": "5aa57dc8-18ce-4e28-adca-62066c4ad8ef"
    }
   },
   "outputs": [],
   "source": [
    "def vshale(gamma, sand_end, shale_end):\n",
    "    # your code here\n",
    "    return # your output"
   ]
  },
  {
   "cell_type": "markdown",
   "metadata": {
    "nbpresent": {
     "id": "1e059dfb-eb7e-496d-bd08-c10176196b0d"
    },
    "slideshow": {
     "slide_type": "slide"
    }
   },
   "source": [
    "----\n",
    "\n",
    "**Exercise**: write a function called `process_tops` that takes a\n",
    "filename as input and return a dictionary of the tops"
   ]
  },
  {
   "cell_type": "code",
   "execution_count": null,
   "metadata": {
    "collapsed": false,
    "nbpresent": {
     "id": "832a0f9a-7ac3-4c99-868b-2133959905e3"
    },
    "slideshow": {
     "slide_type": "slide"
    }
   },
   "outputs": [],
   "source": [
    "topsfile = 'data/L30_tops.txt'\n",
    "\n",
    "def process_tops(file):\n",
    "    \"\"\"\n",
    "    Takes a file as input and returns a dictionary of tops\n",
    "    f : a filename path\n",
    "    \"\"\"\n",
    "    tops_dict = {}\n",
    "    with open(file) as f:\n",
    "        for line in f.readlines():\n",
    "            if not line.startswith('#'):\n",
    "                name, depth = line.strip().split(',')\n",
    "                tops_dict[name] = float(depth)\n",
    "    return tops_dict\n",
    "\n",
    "# process_tops(topsfile)"
   ]
  },
  {
   "cell_type": "code",
   "execution_count": null,
   "metadata": {
    "collapsed": false
   },
   "outputs": [],
   "source": [
    "process_tops(topsfile)"
   ]
  },
  {
   "cell_type": "markdown",
   "metadata": {
    "nbpresent": {
     "id": "c625b447-cb33-43a8-b761-34912d57479d"
    }
   },
   "source": [
    "# Writing and running programs\n",
    "\n",
    "Put the previous function in a text file and give it the name, `load_tops.py`"
   ]
  },
  {
   "cell_type": "code",
   "execution_count": null,
   "metadata": {
    "collapsed": false
   },
   "outputs": [],
   "source": [
    "from scripts import loading_tops"
   ]
  },
  {
   "cell_type": "code",
   "execution_count": null,
   "metadata": {
    "collapsed": false
   },
   "outputs": [],
   "source": [
    "loading_tops.process_tops(topsfile)"
   ]
  },
  {
   "cell_type": "markdown",
   "metadata": {},
   "source": [
    "# Time for a plot break"
   ]
  },
  {
   "cell_type": "code",
   "execution_count": null,
   "metadata": {
    "collapsed": false,
    "nbpresent": {
     "id": "ae13c2ab-dd85-4769-b09e-41e6e0c643b2"
    }
   },
   "outputs": [],
   "source": [
    "import numpy as np\n",
    "import matplotlib.pyplot as plt\n",
    "\n",
    "% matplotlib inline\n",
    "\n",
    "topo = np.load('data/topography.npy')\n",
    "plt.imshow(topo)\n",
    "plt.show()"
   ]
  },
  {
   "cell_type": "markdown",
   "metadata": {
    "nbpresent": {
     "id": "8fbf3ab7-b20f-491e-8167-36fa4fc230ef"
    }
   },
   "source": [
    "## Your first module"
   ]
  },
  {
   "cell_type": "code",
   "execution_count": null,
   "metadata": {
    "collapsed": false,
    "nbpresent": {
     "id": "3625f4af-6867-4038-b02d-9478936f0718"
    }
   },
   "outputs": [],
   "source": [
    "import "
   ]
  },
  {
   "cell_type": "code",
   "execution_count": null,
   "metadata": {
    "collapsed": false,
    "nbpresent": {
     "id": "13726b3e-82eb-436e-a0a5-833d0b608858"
    }
   },
   "outputs": [],
   "source": [
    "topsfile = 'data/L30_tops.txt'\n",
    "tops = load_tops.my_tops(topsfile)"
   ]
  },
  {
   "cell_type": "markdown",
   "metadata": {
    "nbpresent": {
     "id": "c7072db3-8d46-439f-9f00-f367510f0595"
    },
    "slideshow": {
     "slide_type": "slide"
    }
   },
   "source": [
    "## ... from delimited files"
   ]
  },
  {
   "cell_type": "code",
   "execution_count": 149,
   "metadata": {
    "collapsed": false,
    "nbpresent": {
     "id": "506dcd0a-6e38-4ffb-af65-48a3aeb2d897"
    }
   },
   "outputs": [
    {
     "name": "stdout",
     "output_type": "stream",
     "text": [
      "{'start': '544', 'name': 'Cambrian (C)', 'end': '495'}\n",
      "{'start': '495', 'name': 'Ordivician (O)', 'end': '492'}\n",
      "{'start': '442', 'name': 'Silurian (S)', 'end': '416'}\n",
      "{'start': '416', 'name': 'Devonian (D)', 'end': '354'}\n",
      "{'start': '354', 'name': 'Mississipian (M)', 'end': '324'}\n",
      "{'start': '324', 'name': 'Pennsylvanian (IP', 'end': '295'}\n",
      "{'start': '304', 'name': 'Permian (P)', 'end': '248'}\n",
      "{'start': '248', 'name': 'Triassic (Tr)', 'end': '205'}\n",
      "{'start': '205', 'name': 'Jurassic (J)', 'end': '144'}\n",
      "{'start': '160', 'name': 'Cretaceous (C)', 'end': '65'}\n",
      "{'start': '65', 'name': 'Tertiary (T)', 'end': '1.8'}\n",
      "{'start': '1.8', 'name': 'Quaternary (Q)', 'end': '0'}\n"
     ]
    }
   ],
   "source": [
    "import csv\n",
    "with open('data/periods.csv', 'rt') as f:\n",
    "    reader = csv.DictReader(f, delimiter=',')\n",
    "    for row in reader:\n",
    "        print (row)"
   ]
  },
  {
   "cell_type": "markdown",
   "metadata": {
    "nbpresent": {
     "id": "86bbcdbf-8949-4f7b-8de9-03ea04311490"
    },
    "slideshow": {
     "slide_type": "slide"
    }
   },
   "source": [
    "You can write out a delimited data using `csv.writer`:"
   ]
  },
  {
   "cell_type": "code",
   "execution_count": 154,
   "metadata": {
    "collapsed": false,
    "nbpresent": {
     "id": "b047d90a-5b9d-4ba0-a470-3263565d7e7d"
    }
   },
   "outputs": [
    {
     "name": "stdout",
     "output_type": "stream",
     "text": [
      "OWC 1300.0\n"
     ]
    },
    {
     "ename": "TypeError",
     "evalue": "a bytes-like object is required, not 'str'",
     "output_type": "error",
     "traceback": [
      "\u001b[0;31m---------------------------------------------------------------------------\u001b[0m",
      "\u001b[0;31mTypeError\u001b[0m                                 Traceback (most recent call last)",
      "\u001b[0;32m<ipython-input-154-c37dcb927293>\u001b[0m in \u001b[0;36m<module>\u001b[0;34m()\u001b[0m\n\u001b[1;32m      5\u001b[0m     \u001b[0;32mfor\u001b[0m \u001b[0mname\u001b[0m\u001b[0;34m,\u001b[0m \u001b[0mdepth\u001b[0m \u001b[0;32min\u001b[0m \u001b[0mmy_tops\u001b[0m\u001b[0;34m.\u001b[0m\u001b[0mitems\u001b[0m\u001b[0;34m(\u001b[0m\u001b[0;34m)\u001b[0m\u001b[0;34m:\u001b[0m\u001b[0;34m\u001b[0m\u001b[0m\n\u001b[1;32m      6\u001b[0m         \u001b[0mprint\u001b[0m \u001b[0;34m(\u001b[0m\u001b[0mname\u001b[0m\u001b[0;34m,\u001b[0m \u001b[0mdepth\u001b[0m\u001b[0;34m)\u001b[0m\u001b[0;34m\u001b[0m\u001b[0m\n\u001b[0;32m----> 7\u001b[0;31m         \u001b[0mwriter\u001b[0m\u001b[0;34m.\u001b[0m\u001b[0mwriterow\u001b[0m\u001b[0;34m(\u001b[0m\u001b[0;34m'thing'\u001b[0m\u001b[0;34m)\u001b[0m\u001b[0;34m\u001b[0m\u001b[0m\n\u001b[0m",
      "\u001b[0;31mTypeError\u001b[0m: a bytes-like object is required, not 'str'"
     ]
    }
   ],
   "source": [
    "my_tops = {'GOC' : 1200.0 , 'OWC' : 1300.0, 'Top Reservoir' : 1100.0}\n",
    "\n",
    "with open('hc_contacts.txt', 'wb') as f:\n",
    "    writer = csv.writer(f, delimiter=',')\n",
    "    for name, depth in my_tops.items():\n",
    "        print (name, depth)\n",
    "        writer.writerow()"
   ]
  },
  {
   "cell_type": "markdown",
   "metadata": {
    "nbpresent": {
     "id": "af927236-816d-4248-9197-c7d9a5e8df38"
    },
    "slideshow": {
     "slide_type": "slide"
    }
   },
   "source": [
    "## ... from the web"
   ]
  },
  {
   "cell_type": "markdown",
   "metadata": {
    "nbpresent": {
     "id": "f0d943f9-1c8e-4746-bd10-1b435cc1bc02"
    }
   },
   "source": [
    "Use View Source in your browser to figure out where the age range is on the page, and what it looks like.\n",
    "\n",
    "Try to find the same string here."
   ]
  },
  {
   "cell_type": "code",
   "execution_count": 155,
   "metadata": {
    "collapsed": true,
    "nbpresent": {
     "id": "a0605cd9-abac-4641-bbe9-f7e8b9784821"
    }
   },
   "outputs": [],
   "source": [
    "url = \"http://en.wikipedia.org/wiki/Cretaceous\""
   ]
  },
  {
   "cell_type": "code",
   "execution_count": 156,
   "metadata": {
    "collapsed": false,
    "nbpresent": {
     "id": "909ec7cb-ced9-4de7-9ce0-293ace860467"
    }
   },
   "outputs": [
    {
     "ename": "ConnectionError",
     "evalue": "HTTPConnectionPool(host='en.wikipedia.org', port=80): Max retries exceeded with url: /wiki/Cretaceous (Caused by NewConnectionError('<requests.packages.urllib3.connection.HTTPConnection object at 0x10f2b9b38>: Failed to establish a new connection: [Errno 8] nodename nor servname provided, or not known',))",
     "output_type": "error",
     "traceback": [
      "\u001b[0;31m---------------------------------------------------------------------------\u001b[0m",
      "\u001b[0;31mgaierror\u001b[0m                                  Traceback (most recent call last)",
      "\u001b[0;32m/Applications/anaconda/lib/python3.5/site-packages/requests/packages/urllib3/connection.py\u001b[0m in \u001b[0;36m_new_conn\u001b[0;34m(self)\u001b[0m\n\u001b[1;32m    141\u001b[0m             conn = connection.create_connection(\n\u001b[0;32m--> 142\u001b[0;31m                 (self.host, self.port), self.timeout, **extra_kw)\n\u001b[0m\u001b[1;32m    143\u001b[0m \u001b[0;34m\u001b[0m\u001b[0m\n",
      "\u001b[0;32m/Applications/anaconda/lib/python3.5/site-packages/requests/packages/urllib3/util/connection.py\u001b[0m in \u001b[0;36mcreate_connection\u001b[0;34m(address, timeout, source_address, socket_options)\u001b[0m\n\u001b[1;32m     66\u001b[0m     \u001b[0merr\u001b[0m \u001b[0;34m=\u001b[0m \u001b[0;32mNone\u001b[0m\u001b[0;34m\u001b[0m\u001b[0m\n\u001b[0;32m---> 67\u001b[0;31m     \u001b[0;32mfor\u001b[0m \u001b[0mres\u001b[0m \u001b[0;32min\u001b[0m \u001b[0msocket\u001b[0m\u001b[0;34m.\u001b[0m\u001b[0mgetaddrinfo\u001b[0m\u001b[0;34m(\u001b[0m\u001b[0mhost\u001b[0m\u001b[0;34m,\u001b[0m \u001b[0mport\u001b[0m\u001b[0;34m,\u001b[0m \u001b[0;36m0\u001b[0m\u001b[0;34m,\u001b[0m \u001b[0msocket\u001b[0m\u001b[0;34m.\u001b[0m\u001b[0mSOCK_STREAM\u001b[0m\u001b[0;34m)\u001b[0m\u001b[0;34m:\u001b[0m\u001b[0;34m\u001b[0m\u001b[0m\n\u001b[0m\u001b[1;32m     68\u001b[0m         \u001b[0maf\u001b[0m\u001b[0;34m,\u001b[0m \u001b[0msocktype\u001b[0m\u001b[0;34m,\u001b[0m \u001b[0mproto\u001b[0m\u001b[0;34m,\u001b[0m \u001b[0mcanonname\u001b[0m\u001b[0;34m,\u001b[0m \u001b[0msa\u001b[0m \u001b[0;34m=\u001b[0m \u001b[0mres\u001b[0m\u001b[0;34m\u001b[0m\u001b[0m\n",
      "\u001b[0;32m/Applications/anaconda/lib/python3.5/socket.py\u001b[0m in \u001b[0;36mgetaddrinfo\u001b[0;34m(host, port, family, type, proto, flags)\u001b[0m\n\u001b[1;32m    731\u001b[0m     \u001b[0maddrlist\u001b[0m \u001b[0;34m=\u001b[0m \u001b[0;34m[\u001b[0m\u001b[0;34m]\u001b[0m\u001b[0;34m\u001b[0m\u001b[0m\n\u001b[0;32m--> 732\u001b[0;31m     \u001b[0;32mfor\u001b[0m \u001b[0mres\u001b[0m \u001b[0;32min\u001b[0m \u001b[0m_socket\u001b[0m\u001b[0;34m.\u001b[0m\u001b[0mgetaddrinfo\u001b[0m\u001b[0;34m(\u001b[0m\u001b[0mhost\u001b[0m\u001b[0;34m,\u001b[0m \u001b[0mport\u001b[0m\u001b[0;34m,\u001b[0m \u001b[0mfamily\u001b[0m\u001b[0;34m,\u001b[0m \u001b[0mtype\u001b[0m\u001b[0;34m,\u001b[0m \u001b[0mproto\u001b[0m\u001b[0;34m,\u001b[0m \u001b[0mflags\u001b[0m\u001b[0;34m)\u001b[0m\u001b[0;34m:\u001b[0m\u001b[0;34m\u001b[0m\u001b[0m\n\u001b[0m\u001b[1;32m    733\u001b[0m         \u001b[0maf\u001b[0m\u001b[0;34m,\u001b[0m \u001b[0msocktype\u001b[0m\u001b[0;34m,\u001b[0m \u001b[0mproto\u001b[0m\u001b[0;34m,\u001b[0m \u001b[0mcanonname\u001b[0m\u001b[0;34m,\u001b[0m \u001b[0msa\u001b[0m \u001b[0;34m=\u001b[0m \u001b[0mres\u001b[0m\u001b[0;34m\u001b[0m\u001b[0m\n",
      "\u001b[0;31mgaierror\u001b[0m: [Errno 8] nodename nor servname provided, or not known",
      "\nDuring handling of the above exception, another exception occurred:\n",
      "\u001b[0;31mNewConnectionError\u001b[0m                        Traceback (most recent call last)",
      "\u001b[0;32m/Applications/anaconda/lib/python3.5/site-packages/requests/packages/urllib3/connectionpool.py\u001b[0m in \u001b[0;36murlopen\u001b[0;34m(self, method, url, body, headers, retries, redirect, assert_same_host, timeout, pool_timeout, release_conn, chunked, **response_kw)\u001b[0m\n\u001b[1;32m    577\u001b[0m                                                   \u001b[0mbody\u001b[0m\u001b[0;34m=\u001b[0m\u001b[0mbody\u001b[0m\u001b[0;34m,\u001b[0m \u001b[0mheaders\u001b[0m\u001b[0;34m=\u001b[0m\u001b[0mheaders\u001b[0m\u001b[0;34m,\u001b[0m\u001b[0;34m\u001b[0m\u001b[0m\n\u001b[0;32m--> 578\u001b[0;31m                                                   chunked=chunked)\n\u001b[0m\u001b[1;32m    579\u001b[0m \u001b[0;34m\u001b[0m\u001b[0m\n",
      "\u001b[0;32m/Applications/anaconda/lib/python3.5/site-packages/requests/packages/urllib3/connectionpool.py\u001b[0m in \u001b[0;36m_make_request\u001b[0;34m(self, conn, method, url, timeout, chunked, **httplib_request_kw)\u001b[0m\n\u001b[1;32m    361\u001b[0m         \u001b[0;32melse\u001b[0m\u001b[0;34m:\u001b[0m\u001b[0;34m\u001b[0m\u001b[0m\n\u001b[0;32m--> 362\u001b[0;31m             \u001b[0mconn\u001b[0m\u001b[0;34m.\u001b[0m\u001b[0mrequest\u001b[0m\u001b[0;34m(\u001b[0m\u001b[0mmethod\u001b[0m\u001b[0;34m,\u001b[0m \u001b[0murl\u001b[0m\u001b[0;34m,\u001b[0m \u001b[0;34m**\u001b[0m\u001b[0mhttplib_request_kw\u001b[0m\u001b[0;34m)\u001b[0m\u001b[0;34m\u001b[0m\u001b[0m\n\u001b[0m\u001b[1;32m    363\u001b[0m \u001b[0;34m\u001b[0m\u001b[0m\n",
      "\u001b[0;32m/Applications/anaconda/lib/python3.5/http/client.py\u001b[0m in \u001b[0;36mrequest\u001b[0;34m(self, method, url, body, headers)\u001b[0m\n\u001b[1;32m   1105\u001b[0m         \u001b[0;34m\"\"\"Send a complete request to the server.\"\"\"\u001b[0m\u001b[0;34m\u001b[0m\u001b[0m\n\u001b[0;32m-> 1106\u001b[0;31m         \u001b[0mself\u001b[0m\u001b[0;34m.\u001b[0m\u001b[0m_send_request\u001b[0m\u001b[0;34m(\u001b[0m\u001b[0mmethod\u001b[0m\u001b[0;34m,\u001b[0m \u001b[0murl\u001b[0m\u001b[0;34m,\u001b[0m \u001b[0mbody\u001b[0m\u001b[0;34m,\u001b[0m \u001b[0mheaders\u001b[0m\u001b[0;34m)\u001b[0m\u001b[0;34m\u001b[0m\u001b[0m\n\u001b[0m\u001b[1;32m   1107\u001b[0m \u001b[0;34m\u001b[0m\u001b[0m\n",
      "\u001b[0;32m/Applications/anaconda/lib/python3.5/http/client.py\u001b[0m in \u001b[0;36m_send_request\u001b[0;34m(self, method, url, body, headers)\u001b[0m\n\u001b[1;32m   1150\u001b[0m             \u001b[0mbody\u001b[0m \u001b[0;34m=\u001b[0m \u001b[0m_encode\u001b[0m\u001b[0;34m(\u001b[0m\u001b[0mbody\u001b[0m\u001b[0;34m,\u001b[0m \u001b[0;34m'body'\u001b[0m\u001b[0;34m)\u001b[0m\u001b[0;34m\u001b[0m\u001b[0m\n\u001b[0;32m-> 1151\u001b[0;31m         \u001b[0mself\u001b[0m\u001b[0;34m.\u001b[0m\u001b[0mendheaders\u001b[0m\u001b[0;34m(\u001b[0m\u001b[0mbody\u001b[0m\u001b[0;34m)\u001b[0m\u001b[0;34m\u001b[0m\u001b[0m\n\u001b[0m\u001b[1;32m   1152\u001b[0m \u001b[0;34m\u001b[0m\u001b[0m\n",
      "\u001b[0;32m/Applications/anaconda/lib/python3.5/http/client.py\u001b[0m in \u001b[0;36mendheaders\u001b[0;34m(self, message_body)\u001b[0m\n\u001b[1;32m   1101\u001b[0m             \u001b[0;32mraise\u001b[0m \u001b[0mCannotSendHeader\u001b[0m\u001b[0;34m(\u001b[0m\u001b[0;34m)\u001b[0m\u001b[0;34m\u001b[0m\u001b[0m\n\u001b[0;32m-> 1102\u001b[0;31m         \u001b[0mself\u001b[0m\u001b[0;34m.\u001b[0m\u001b[0m_send_output\u001b[0m\u001b[0;34m(\u001b[0m\u001b[0mmessage_body\u001b[0m\u001b[0;34m)\u001b[0m\u001b[0;34m\u001b[0m\u001b[0m\n\u001b[0m\u001b[1;32m   1103\u001b[0m \u001b[0;34m\u001b[0m\u001b[0m\n",
      "\u001b[0;32m/Applications/anaconda/lib/python3.5/http/client.py\u001b[0m in \u001b[0;36m_send_output\u001b[0;34m(self, message_body)\u001b[0m\n\u001b[1;32m    933\u001b[0m \u001b[0;34m\u001b[0m\u001b[0m\n\u001b[0;32m--> 934\u001b[0;31m         \u001b[0mself\u001b[0m\u001b[0;34m.\u001b[0m\u001b[0msend\u001b[0m\u001b[0;34m(\u001b[0m\u001b[0mmsg\u001b[0m\u001b[0;34m)\u001b[0m\u001b[0;34m\u001b[0m\u001b[0m\n\u001b[0m\u001b[1;32m    935\u001b[0m         \u001b[0;32mif\u001b[0m \u001b[0mmessage_body\u001b[0m \u001b[0;32mis\u001b[0m \u001b[0;32mnot\u001b[0m \u001b[0;32mNone\u001b[0m\u001b[0;34m:\u001b[0m\u001b[0;34m\u001b[0m\u001b[0m\n",
      "\u001b[0;32m/Applications/anaconda/lib/python3.5/http/client.py\u001b[0m in \u001b[0;36msend\u001b[0;34m(self, data)\u001b[0m\n\u001b[1;32m    876\u001b[0m             \u001b[0;32mif\u001b[0m \u001b[0mself\u001b[0m\u001b[0;34m.\u001b[0m\u001b[0mauto_open\u001b[0m\u001b[0;34m:\u001b[0m\u001b[0;34m\u001b[0m\u001b[0m\n\u001b[0;32m--> 877\u001b[0;31m                 \u001b[0mself\u001b[0m\u001b[0;34m.\u001b[0m\u001b[0mconnect\u001b[0m\u001b[0;34m(\u001b[0m\u001b[0;34m)\u001b[0m\u001b[0;34m\u001b[0m\u001b[0m\n\u001b[0m\u001b[1;32m    878\u001b[0m             \u001b[0;32melse\u001b[0m\u001b[0;34m:\u001b[0m\u001b[0;34m\u001b[0m\u001b[0m\n",
      "\u001b[0;32m/Applications/anaconda/lib/python3.5/site-packages/requests/packages/urllib3/connection.py\u001b[0m in \u001b[0;36mconnect\u001b[0;34m(self)\u001b[0m\n\u001b[1;32m    166\u001b[0m     \u001b[0;32mdef\u001b[0m \u001b[0mconnect\u001b[0m\u001b[0;34m(\u001b[0m\u001b[0mself\u001b[0m\u001b[0;34m)\u001b[0m\u001b[0;34m:\u001b[0m\u001b[0;34m\u001b[0m\u001b[0m\n\u001b[0;32m--> 167\u001b[0;31m         \u001b[0mconn\u001b[0m \u001b[0;34m=\u001b[0m \u001b[0mself\u001b[0m\u001b[0;34m.\u001b[0m\u001b[0m_new_conn\u001b[0m\u001b[0;34m(\u001b[0m\u001b[0;34m)\u001b[0m\u001b[0;34m\u001b[0m\u001b[0m\n\u001b[0m\u001b[1;32m    168\u001b[0m         \u001b[0mself\u001b[0m\u001b[0;34m.\u001b[0m\u001b[0m_prepare_conn\u001b[0m\u001b[0;34m(\u001b[0m\u001b[0mconn\u001b[0m\u001b[0;34m)\u001b[0m\u001b[0;34m\u001b[0m\u001b[0m\n",
      "\u001b[0;32m/Applications/anaconda/lib/python3.5/site-packages/requests/packages/urllib3/connection.py\u001b[0m in \u001b[0;36m_new_conn\u001b[0;34m(self)\u001b[0m\n\u001b[1;32m    150\u001b[0m             raise NewConnectionError(\n\u001b[0;32m--> 151\u001b[0;31m                 self, \"Failed to establish a new connection: %s\" % e)\n\u001b[0m\u001b[1;32m    152\u001b[0m \u001b[0;34m\u001b[0m\u001b[0m\n",
      "\u001b[0;31mNewConnectionError\u001b[0m: <requests.packages.urllib3.connection.HTTPConnection object at 0x10f2b9b38>: Failed to establish a new connection: [Errno 8] nodename nor servname provided, or not known",
      "\nDuring handling of the above exception, another exception occurred:\n",
      "\u001b[0;31mMaxRetryError\u001b[0m                             Traceback (most recent call last)",
      "\u001b[0;32m/Applications/anaconda/lib/python3.5/site-packages/requests/adapters.py\u001b[0m in \u001b[0;36msend\u001b[0;34m(self, request, stream, timeout, verify, cert, proxies)\u001b[0m\n\u001b[1;32m    402\u001b[0m                     \u001b[0mretries\u001b[0m\u001b[0;34m=\u001b[0m\u001b[0mself\u001b[0m\u001b[0;34m.\u001b[0m\u001b[0mmax_retries\u001b[0m\u001b[0;34m,\u001b[0m\u001b[0;34m\u001b[0m\u001b[0m\n\u001b[0;32m--> 403\u001b[0;31m                     \u001b[0mtimeout\u001b[0m\u001b[0;34m=\u001b[0m\u001b[0mtimeout\u001b[0m\u001b[0;34m\u001b[0m\u001b[0m\n\u001b[0m\u001b[1;32m    404\u001b[0m                 )\n",
      "\u001b[0;32m/Applications/anaconda/lib/python3.5/site-packages/requests/packages/urllib3/connectionpool.py\u001b[0m in \u001b[0;36murlopen\u001b[0;34m(self, method, url, body, headers, retries, redirect, assert_same_host, timeout, pool_timeout, release_conn, chunked, **response_kw)\u001b[0m\n\u001b[1;32m    622\u001b[0m             retries = retries.increment(method, url, error=e, _pool=self,\n\u001b[0;32m--> 623\u001b[0;31m                                         _stacktrace=sys.exc_info()[2])\n\u001b[0m\u001b[1;32m    624\u001b[0m             \u001b[0mretries\u001b[0m\u001b[0;34m.\u001b[0m\u001b[0msleep\u001b[0m\u001b[0;34m(\u001b[0m\u001b[0;34m)\u001b[0m\u001b[0;34m\u001b[0m\u001b[0m\n",
      "\u001b[0;32m/Applications/anaconda/lib/python3.5/site-packages/requests/packages/urllib3/util/retry.py\u001b[0m in \u001b[0;36mincrement\u001b[0;34m(self, method, url, response, error, _pool, _stacktrace)\u001b[0m\n\u001b[1;32m    280\u001b[0m         \u001b[0;32mif\u001b[0m \u001b[0mnew_retry\u001b[0m\u001b[0;34m.\u001b[0m\u001b[0mis_exhausted\u001b[0m\u001b[0;34m(\u001b[0m\u001b[0;34m)\u001b[0m\u001b[0;34m:\u001b[0m\u001b[0;34m\u001b[0m\u001b[0m\n\u001b[0;32m--> 281\u001b[0;31m             \u001b[0;32mraise\u001b[0m \u001b[0mMaxRetryError\u001b[0m\u001b[0;34m(\u001b[0m\u001b[0m_pool\u001b[0m\u001b[0;34m,\u001b[0m \u001b[0murl\u001b[0m\u001b[0;34m,\u001b[0m \u001b[0merror\u001b[0m \u001b[0;32mor\u001b[0m \u001b[0mResponseError\u001b[0m\u001b[0;34m(\u001b[0m\u001b[0mcause\u001b[0m\u001b[0;34m)\u001b[0m\u001b[0;34m)\u001b[0m\u001b[0;34m\u001b[0m\u001b[0m\n\u001b[0m\u001b[1;32m    282\u001b[0m \u001b[0;34m\u001b[0m\u001b[0m\n",
      "\u001b[0;31mMaxRetryError\u001b[0m: HTTPConnectionPool(host='en.wikipedia.org', port=80): Max retries exceeded with url: /wiki/Cretaceous (Caused by NewConnectionError('<requests.packages.urllib3.connection.HTTPConnection object at 0x10f2b9b38>: Failed to establish a new connection: [Errno 8] nodename nor servname provided, or not known',))",
      "\nDuring handling of the above exception, another exception occurred:\n",
      "\u001b[0;31mConnectionError\u001b[0m                           Traceback (most recent call last)",
      "\u001b[0;32m<ipython-input-156-f993001db7d3>\u001b[0m in \u001b[0;36m<module>\u001b[0;34m()\u001b[0m\n\u001b[1;32m      1\u001b[0m \u001b[0;32mimport\u001b[0m \u001b[0mrequests\u001b[0m\u001b[0;34m\u001b[0m\u001b[0m\n\u001b[0;32m----> 2\u001b[0;31m \u001b[0mr\u001b[0m \u001b[0;34m=\u001b[0m \u001b[0mrequests\u001b[0m\u001b[0;34m.\u001b[0m\u001b[0mget\u001b[0m\u001b[0;34m(\u001b[0m\u001b[0murl\u001b[0m\u001b[0;34m)\u001b[0m\u001b[0;34m\u001b[0m\u001b[0m\n\u001b[0m\u001b[1;32m      3\u001b[0m \u001b[0mr\u001b[0m\u001b[0;34m.\u001b[0m\u001b[0mtext\u001b[0m\u001b[0;34m[\u001b[0m\u001b[0;34m:\u001b[0m\u001b[0;36m2000\u001b[0m\u001b[0;34m]\u001b[0m\u001b[0;34m\u001b[0m\u001b[0m\n",
      "\u001b[0;32m/Applications/anaconda/lib/python3.5/site-packages/requests/api.py\u001b[0m in \u001b[0;36mget\u001b[0;34m(url, params, **kwargs)\u001b[0m\n\u001b[1;32m     69\u001b[0m \u001b[0;34m\u001b[0m\u001b[0m\n\u001b[1;32m     70\u001b[0m     \u001b[0mkwargs\u001b[0m\u001b[0;34m.\u001b[0m\u001b[0msetdefault\u001b[0m\u001b[0;34m(\u001b[0m\u001b[0;34m'allow_redirects'\u001b[0m\u001b[0;34m,\u001b[0m \u001b[0;32mTrue\u001b[0m\u001b[0;34m)\u001b[0m\u001b[0;34m\u001b[0m\u001b[0m\n\u001b[0;32m---> 71\u001b[0;31m     \u001b[0;32mreturn\u001b[0m \u001b[0mrequest\u001b[0m\u001b[0;34m(\u001b[0m\u001b[0;34m'get'\u001b[0m\u001b[0;34m,\u001b[0m \u001b[0murl\u001b[0m\u001b[0;34m,\u001b[0m \u001b[0mparams\u001b[0m\u001b[0;34m=\u001b[0m\u001b[0mparams\u001b[0m\u001b[0;34m,\u001b[0m \u001b[0;34m**\u001b[0m\u001b[0mkwargs\u001b[0m\u001b[0;34m)\u001b[0m\u001b[0;34m\u001b[0m\u001b[0m\n\u001b[0m\u001b[1;32m     72\u001b[0m \u001b[0;34m\u001b[0m\u001b[0m\n\u001b[1;32m     73\u001b[0m \u001b[0;34m\u001b[0m\u001b[0m\n",
      "\u001b[0;32m/Applications/anaconda/lib/python3.5/site-packages/requests/api.py\u001b[0m in \u001b[0;36mrequest\u001b[0;34m(method, url, **kwargs)\u001b[0m\n\u001b[1;32m     55\u001b[0m     \u001b[0;31m# cases, and look like a memory leak in others.\u001b[0m\u001b[0;34m\u001b[0m\u001b[0;34m\u001b[0m\u001b[0m\n\u001b[1;32m     56\u001b[0m     \u001b[0;32mwith\u001b[0m \u001b[0msessions\u001b[0m\u001b[0;34m.\u001b[0m\u001b[0mSession\u001b[0m\u001b[0;34m(\u001b[0m\u001b[0;34m)\u001b[0m \u001b[0;32mas\u001b[0m \u001b[0msession\u001b[0m\u001b[0;34m:\u001b[0m\u001b[0;34m\u001b[0m\u001b[0m\n\u001b[0;32m---> 57\u001b[0;31m         \u001b[0;32mreturn\u001b[0m \u001b[0msession\u001b[0m\u001b[0;34m.\u001b[0m\u001b[0mrequest\u001b[0m\u001b[0;34m(\u001b[0m\u001b[0mmethod\u001b[0m\u001b[0;34m=\u001b[0m\u001b[0mmethod\u001b[0m\u001b[0;34m,\u001b[0m \u001b[0murl\u001b[0m\u001b[0;34m=\u001b[0m\u001b[0murl\u001b[0m\u001b[0;34m,\u001b[0m \u001b[0;34m**\u001b[0m\u001b[0mkwargs\u001b[0m\u001b[0;34m)\u001b[0m\u001b[0;34m\u001b[0m\u001b[0m\n\u001b[0m\u001b[1;32m     58\u001b[0m \u001b[0;34m\u001b[0m\u001b[0m\n\u001b[1;32m     59\u001b[0m \u001b[0;34m\u001b[0m\u001b[0m\n",
      "\u001b[0;32m/Applications/anaconda/lib/python3.5/site-packages/requests/sessions.py\u001b[0m in \u001b[0;36mrequest\u001b[0;34m(self, method, url, params, data, headers, cookies, files, auth, timeout, allow_redirects, proxies, hooks, stream, verify, cert, json)\u001b[0m\n\u001b[1;32m    473\u001b[0m         }\n\u001b[1;32m    474\u001b[0m         \u001b[0msend_kwargs\u001b[0m\u001b[0;34m.\u001b[0m\u001b[0mupdate\u001b[0m\u001b[0;34m(\u001b[0m\u001b[0msettings\u001b[0m\u001b[0;34m)\u001b[0m\u001b[0;34m\u001b[0m\u001b[0m\n\u001b[0;32m--> 475\u001b[0;31m         \u001b[0mresp\u001b[0m \u001b[0;34m=\u001b[0m \u001b[0mself\u001b[0m\u001b[0;34m.\u001b[0m\u001b[0msend\u001b[0m\u001b[0;34m(\u001b[0m\u001b[0mprep\u001b[0m\u001b[0;34m,\u001b[0m \u001b[0;34m**\u001b[0m\u001b[0msend_kwargs\u001b[0m\u001b[0;34m)\u001b[0m\u001b[0;34m\u001b[0m\u001b[0m\n\u001b[0m\u001b[1;32m    476\u001b[0m \u001b[0;34m\u001b[0m\u001b[0m\n\u001b[1;32m    477\u001b[0m         \u001b[0;32mreturn\u001b[0m \u001b[0mresp\u001b[0m\u001b[0;34m\u001b[0m\u001b[0m\n",
      "\u001b[0;32m/Applications/anaconda/lib/python3.5/site-packages/requests/sessions.py\u001b[0m in \u001b[0;36msend\u001b[0;34m(self, request, **kwargs)\u001b[0m\n\u001b[1;32m    583\u001b[0m \u001b[0;34m\u001b[0m\u001b[0m\n\u001b[1;32m    584\u001b[0m         \u001b[0;31m# Send the request\u001b[0m\u001b[0;34m\u001b[0m\u001b[0;34m\u001b[0m\u001b[0m\n\u001b[0;32m--> 585\u001b[0;31m         \u001b[0mr\u001b[0m \u001b[0;34m=\u001b[0m \u001b[0madapter\u001b[0m\u001b[0;34m.\u001b[0m\u001b[0msend\u001b[0m\u001b[0;34m(\u001b[0m\u001b[0mrequest\u001b[0m\u001b[0;34m,\u001b[0m \u001b[0;34m**\u001b[0m\u001b[0mkwargs\u001b[0m\u001b[0;34m)\u001b[0m\u001b[0;34m\u001b[0m\u001b[0m\n\u001b[0m\u001b[1;32m    586\u001b[0m \u001b[0;34m\u001b[0m\u001b[0m\n\u001b[1;32m    587\u001b[0m         \u001b[0;31m# Total elapsed time of the request (approximately)\u001b[0m\u001b[0;34m\u001b[0m\u001b[0;34m\u001b[0m\u001b[0m\n",
      "\u001b[0;32m/Applications/anaconda/lib/python3.5/site-packages/requests/adapters.py\u001b[0m in \u001b[0;36msend\u001b[0;34m(self, request, stream, timeout, verify, cert, proxies)\u001b[0m\n\u001b[1;32m    465\u001b[0m                 \u001b[0;32mraise\u001b[0m \u001b[0mProxyError\u001b[0m\u001b[0;34m(\u001b[0m\u001b[0me\u001b[0m\u001b[0;34m,\u001b[0m \u001b[0mrequest\u001b[0m\u001b[0;34m=\u001b[0m\u001b[0mrequest\u001b[0m\u001b[0;34m)\u001b[0m\u001b[0;34m\u001b[0m\u001b[0m\n\u001b[1;32m    466\u001b[0m \u001b[0;34m\u001b[0m\u001b[0m\n\u001b[0;32m--> 467\u001b[0;31m             \u001b[0;32mraise\u001b[0m \u001b[0mConnectionError\u001b[0m\u001b[0;34m(\u001b[0m\u001b[0me\u001b[0m\u001b[0;34m,\u001b[0m \u001b[0mrequest\u001b[0m\u001b[0;34m=\u001b[0m\u001b[0mrequest\u001b[0m\u001b[0;34m)\u001b[0m\u001b[0;34m\u001b[0m\u001b[0m\n\u001b[0m\u001b[1;32m    468\u001b[0m \u001b[0;34m\u001b[0m\u001b[0m\n\u001b[1;32m    469\u001b[0m         \u001b[0;32mexcept\u001b[0m \u001b[0mClosedPoolError\u001b[0m \u001b[0;32mas\u001b[0m \u001b[0me\u001b[0m\u001b[0;34m:\u001b[0m\u001b[0;34m\u001b[0m\u001b[0m\n",
      "\u001b[0;31mConnectionError\u001b[0m: HTTPConnectionPool(host='en.wikipedia.org', port=80): Max retries exceeded with url: /wiki/Cretaceous (Caused by NewConnectionError('<requests.packages.urllib3.connection.HTTPConnection object at 0x10f2b9b38>: Failed to establish a new connection: [Errno 8] nodename nor servname provided, or not known',))"
     ]
    }
   ],
   "source": [
    "import requests\n",
    "r = requests.get(url)\n",
    "r.text[:2000]"
   ]
  },
  {
   "cell_type": "markdown",
   "metadata": {
    "nbpresent": {
     "id": "2808af90-4327-47cd-bc5d-de9fd87ab33c"
    },
    "slideshow": {
     "slide_type": "slide"
    }
   },
   "source": [
    "Using a [regular expression](https://docs.python.org/2/library/re.html):"
   ]
  },
  {
   "cell_type": "code",
   "execution_count": 157,
   "metadata": {
    "collapsed": false,
    "nbpresent": {
     "id": "66d6718b-6552-462b-8a5e-1865f8a32aa0"
    }
   },
   "outputs": [
    {
     "ename": "NameError",
     "evalue": "name 'r' is not defined",
     "output_type": "error",
     "traceback": [
      "\u001b[0;31m---------------------------------------------------------------------------\u001b[0m",
      "\u001b[0;31mNameError\u001b[0m                                 Traceback (most recent call last)",
      "\u001b[0;32m<ipython-input-157-7d53b7f4e4a7>\u001b[0m in \u001b[0;36m<module>\u001b[0;34m()\u001b[0m\n\u001b[1;32m      1\u001b[0m \u001b[0;32mimport\u001b[0m \u001b[0mre\u001b[0m\u001b[0;34m\u001b[0m\u001b[0m\n\u001b[1;32m      2\u001b[0m \u001b[0;34m\u001b[0m\u001b[0m\n\u001b[0;32m----> 3\u001b[0;31m \u001b[0ms\u001b[0m \u001b[0;34m=\u001b[0m \u001b[0mre\u001b[0m\u001b[0;34m.\u001b[0m\u001b[0msearch\u001b[0m\u001b[0;34m(\u001b[0m\u001b[0;34mr'<i>(.+?million years ago)</i>'\u001b[0m\u001b[0;34m,\u001b[0m \u001b[0mr\u001b[0m\u001b[0;34m.\u001b[0m\u001b[0mtext\u001b[0m\u001b[0;34m)\u001b[0m\u001b[0;34m\u001b[0m\u001b[0m\n\u001b[0m\u001b[1;32m      4\u001b[0m \u001b[0mtext\u001b[0m \u001b[0;34m=\u001b[0m \u001b[0ms\u001b[0m\u001b[0;34m.\u001b[0m\u001b[0mgroup\u001b[0m\u001b[0;34m(\u001b[0m\u001b[0;36m1\u001b[0m\u001b[0;34m)\u001b[0m\u001b[0;34m\u001b[0m\u001b[0m\n",
      "\u001b[0;31mNameError\u001b[0m: name 'r' is not defined"
     ]
    }
   ],
   "source": [
    "import re\n",
    "\n",
    "s = re.search(r'<i>(.+?million years ago)</i>', r.text)\n",
    "text = s.group(1)"
   ]
  },
  {
   "cell_type": "markdown",
   "metadata": {
    "nbpresent": {
     "id": "0e0be6ae-a47c-4c01-bf95-37bd94b48c3d"
    },
    "slideshow": {
     "slide_type": "slide"
    }
   },
   "source": [
    "----\n",
    "**Exercise**: Make a function to get the start and end ages of *any* geologic period, taking the name of the period as an argument."
   ]
  },
  {
   "cell_type": "code",
   "execution_count": null,
   "metadata": {
    "collapsed": true,
    "nbpresent": {
     "id": "35ccd775-87e5-480a-b7f8-e6f5eac03cb0"
    },
    "slideshow": {
     "slide_type": "-"
    }
   },
   "outputs": [],
   "source": [
    "def get_age(period):\n",
    "    url = \"http://en.wikipedia.org/wiki/\" + period\n",
    "    r = requests.get(url)\n",
    "    start, end = re.search(r'<i>([\\.0-9]+)–([\\.0-9]+)&#160;million years ago</i>', r.text).groups()\n",
    "    return float(start), float(end)"
   ]
  },
  {
   "cell_type": "code",
   "execution_count": null,
   "metadata": {
    "collapsed": false,
    "nbpresent": {
     "id": "48241112-16ae-4100-8250-d8083b505d64"
    }
   },
   "outputs": [],
   "source": [
    "period = \"Cretaceous\"\n",
    "get_age(period)"
   ]
  },
  {
   "cell_type": "code",
   "execution_count": null,
   "metadata": {
    "collapsed": true,
    "nbpresent": {
     "id": "82820528-5b32-4cc5-815e-fc62181f056b"
    },
    "slideshow": {
     "slide_type": "slide"
    }
   },
   "outputs": [],
   "source": [
    "def duration(period):\n",
    "    t0, t1 = get_age(period)\n",
    "    duration = t0 - t1\n",
    "    response = \"According to Wikipedia, the {0} period was {1:.2f} Ma long. \".format(period, duration)\n",
    "    return response"
   ]
  },
  {
   "cell_type": "code",
   "execution_count": null,
   "metadata": {
    "collapsed": false,
    "nbpresent": {
     "id": "a398df5c-2486-4029-9ce6-07d948b9bca3"
    }
   },
   "outputs": [],
   "source": [
    "duration('Cretaceous')"
   ]
  },
  {
   "cell_type": "markdown",
   "metadata": {
    "nbpresent": {
     "id": "ff06adc0-297e-4d7d-bb68-94af7d604ac3"
    },
    "slideshow": {
     "slide_type": "slide"
    }
   },
   "source": [
    "## Using built-in functions"
   ]
  },
  {
   "cell_type": "markdown",
   "metadata": {
    "nbpresent": {
     "id": "39e76f0c-67ea-4f82-a9f4-9e7591902f7c"
    },
    "slideshow": {
     "slide_type": "slide"
    }
   },
   "source": [
    "## Importing modules\n",
    "\n",
    "the <code><font color=\"green\">import</font></code> statement\n"
   ]
  },
  {
   "cell_type": "code",
   "execution_count": 158,
   "metadata": {
    "collapsed": false,
    "nbpresent": {
     "id": "53be72c5-9f69-4cbb-a370-a293edd47ab7"
    }
   },
   "outputs": [
    {
     "name": "stdout",
     "output_type": "stream",
     "text": [
      "The Zen of Python, by Tim Peters\n",
      "\n",
      "Beautiful is better than ugly.\n",
      "Explicit is better than implicit.\n",
      "Simple is better than complex.\n",
      "Complex is better than complicated.\n",
      "Flat is better than nested.\n",
      "Sparse is better than dense.\n",
      "Readability counts.\n",
      "Special cases aren't special enough to break the rules.\n",
      "Although practicality beats purity.\n",
      "Errors should never pass silently.\n",
      "Unless explicitly silenced.\n",
      "In the face of ambiguity, refuse the temptation to guess.\n",
      "There should be one-- and preferably only one --obvious way to do it.\n",
      "Although that way may not be obvious at first unless you're Dutch.\n",
      "Now is better than never.\n",
      "Although never is often better than *right* now.\n",
      "If the implementation is hard to explain, it's a bad idea.\n",
      "If the implementation is easy to explain, it may be a good idea.\n",
      "Namespaces are one honking great idea -- let's do more of those!\n"
     ]
    }
   ],
   "source": [
    "import this"
   ]
  },
  {
   "cell_type": "markdown",
   "metadata": {
    "nbpresent": {
     "id": "96c89dc6-6704-45af-ac04-75248a4fd1f8"
    },
    "slideshow": {
     "slide_type": "slide"
    }
   },
   "source": [
    "## The Python standard library"
   ]
  },
  {
   "cell_type": "markdown",
   "metadata": {
    "nbpresent": {
     "id": "2c64b204-b564-45ac-9629-561dcb6cc37b"
    }
   },
   "source": [
    "[Built-in functions](https://docs.python.org/3/library/functions.html)\n",
    "\n",
    "[Built-in Types](https://docs.python.org/3/library/stdtypes.html)\n",
    "\n",
    "[docs.python.org](https://docs.python.org/3/library/)"
   ]
  },
  {
   "cell_type": "code",
   "execution_count": 159,
   "metadata": {
    "collapsed": true,
    "nbpresent": {
     "id": "14ebac24-42b4-48e3-822f-8889a4791c55"
    }
   },
   "outputs": [],
   "source": [
    "import datetime"
   ]
  },
  {
   "cell_type": "markdown",
   "metadata": {
    "nbpresent": {
     "id": "510e9a53-9aac-4b41-927a-a7e8c975c0f8"
    },
    "slideshow": {
     "slide_type": "slide"
    }
   },
   "source": [
    "## External python languges\n",
    "\n",
    "The Python Package Index, [PyPI](https://pypi.python.org/pypi)"
   ]
  },
  {
   "cell_type": "markdown",
   "metadata": {
    "nbpresent": {
     "id": "e0c96661-626c-4c60-a8a6-6dca9e0afe3a"
    }
   },
   "source": [
    "* [SciPy](http://www.scipy.org/) -  a collection of often-used libraries"
   ]
  },
  {
   "cell_type": "markdown",
   "metadata": {
    "nbpresent": {
     "id": "ccb54889-9a39-41bb-a2a8-f0535d6ddff1"
    },
    "slideshow": {
     "slide_type": "slide"
    }
   },
   "source": [
    "## Using external libraries"
   ]
  },
  {
   "cell_type": "code",
   "execution_count": null,
   "metadata": {
    "collapsed": true,
    "nbpresent": {
     "id": "88484249-4055-4c23-ac44-fda016f9de2c"
    }
   },
   "outputs": [],
   "source": [
    "import numpy as np"
   ]
  },
  {
   "cell_type": "markdown",
   "metadata": {
    "nbpresent": {
     "id": "37846d4e-a2e3-4256-a236-604a505d23d1"
    }
   },
   "source": [
    "----\n",
    "\n",
    "**Exercise**: \n",
    "\n",
    "Using numpy's load text function `np.loadtxt(...)`, load the data file into a variable called `data`"
   ]
  },
  {
   "cell_type": "code",
   "execution_count": 164,
   "metadata": {
    "collapsed": false,
    "nbpresent": {
     "id": "9a0e2fbb-1f17-458a-94a6-fc4038a50962"
    }
   },
   "outputs": [],
   "source": [
    "data = np.loadtxt('data/my_first_well.las', skiprows=2)"
   ]
  },
  {
   "cell_type": "code",
   "execution_count": 171,
   "metadata": {
    "collapsed": false
   },
   "outputs": [
    {
     "data": {
      "text/plain": [
       "array([ 73.221,  72.787,  73.154, ...,  73.868,  71.888,  69.513])"
      ]
     },
     "execution_count": 171,
     "metadata": {},
     "output_type": "execute_result"
    }
   ],
   "source": [
    "data[:,5]"
   ]
  },
  {
   "cell_type": "markdown",
   "metadata": {
    "nbpresent": {
     "id": "07e97567-690b-4bf9-94a6-7c9116dac42a"
    }
   },
   "source": [
    "----\n",
    "\n",
    "**Exercise**: \n",
    "\n",
    "* a) write a function called `make_curves` that takes the data as input and return a dictionary of the curves. Keys are the curve name, values are the columns \n",
    "\n",
    "* b) write a function that converts the sonic log (us/ft) to velocity (m/s)\n",
    "\n",
    "* c) calculate an acoustic impedance log in SI units"
   ]
  },
  {
   "cell_type": "code",
   "execution_count": 180,
   "metadata": {
    "collapsed": false,
    "nbpresent": {
     "id": "de7dd901-2ede-4344-84f7-01371eb9cc9b"
    }
   },
   "outputs": [],
   "source": [
    "# Acoustic impedance\n"
   ]
  },
  {
   "cell_type": "code",
   "execution_count": 179,
   "metadata": {
    "collapsed": false
   },
   "outputs": [
    {
     "data": {
      "text/plain": [
       "26483.104926697306"
      ]
     },
     "execution_count": 179,
     "metadata": {},
     "output_type": "execute_result"
    }
   ],
   "source": []
  },
  {
   "cell_type": "markdown",
   "metadata": {
    "nbpresent": {
     "id": "b9b88cfc-c405-4251-8b76-3d24b69d1120"
    }
   },
   "source": [
    "----\n",
    "**Exercise**: compute a reflection coefficient series by completing the following for loop\n"
   ]
  },
  {
   "cell_type": "code",
   "execution_count": null,
   "metadata": {
    "collapsed": true,
    "nbpresent": {
     "id": "9140aa26-de51-497f-8d7a-022897f2e7ec"
    }
   },
   "outputs": [],
   "source": [
    "rc_series = []  \n",
    "for layer in range(len(acimp)-1):\n",
    "    z2 = acimp[layer + 1]\n",
    "    z1 = acimp[layer]\n",
    "    coeff = rc(z2, z1)\n",
    "    rc_series.append(coeff)"
   ]
  },
  {
   "cell_type": "code",
   "execution_count": null,
   "metadata": {
    "collapsed": false,
    "nbpresent": {
     "id": "7fd496ac-2b9d-4979-94f8-f29f86e90481"
    }
   },
   "outputs": [],
   "source": [
    "def rc(ip2, ip1):\n",
    "    \"\"\"\n",
    "    returns the normal incidence reflection coefficient\n",
    "    between two layers with impedances Z2, Z1\n",
    "    ip2 : Impedance of the bottom layer \n",
    "    ip1 : Impedance of the upper layer\n",
    "    \"\"\"\n",
    "    return (ip2 - ip1) / (ip2 + ip1)"
   ]
  },
  {
   "cell_type": "markdown",
   "metadata": {
    "nbpresent": {
     "id": "d3cd8763-bc2b-4d13-a0c5-8d6bffb04999"
    }
   },
   "source": [
    "----\n",
    "**Exercise**: make two tracks of a well log; plot the impedance in one track, and the R.C series in the other "
   ]
  },
  {
   "cell_type": "code",
   "execution_count": null,
   "metadata": {
    "collapsed": false,
    "nbpresent": {
     "id": "2723156d-dc5a-4622-8509-7365889c0081"
    }
   },
   "outputs": [],
   "source": [
    "plt.subplot(121)\n",
    "plt.plot(ip, c='g', lw=4, alpha=0.5)\n",
    "plt.subplot(122)\n",
    "plt.plot(rc, c='g', lw=4, alpha=0.5)"
   ]
  },
  {
   "cell_type": "markdown",
   "metadata": {
    "nbpresent": {
     "id": "6e3c5843-2faf-4e9b-aa33-acdbf8411371"
    },
    "slideshow": {
     "slide_type": "slide"
    }
   },
   "source": [
    "Getting started with [bruges](https://github.com/agile-geoscience/notebooks/blob/master/Bruges_getting_started.ipynb)\n"
   ]
  },
  {
   "cell_type": "markdown",
   "metadata": {
    "nbpresent": {
     "id": "095dac2e-d6df-4f57-bf8d-3444a39f55f6"
    },
    "slideshow": {
     "slide_type": "slide"
    }
   },
   "source": [
    "# Writing and running programs"
   ]
  },
  {
   "cell_type": "markdown",
   "metadata": {
    "nbpresent": {
     "id": "b1ee1781-1a3d-4a0d-92cc-0ed484eb9475"
    },
    "slideshow": {
     "slide_type": "slide"
    }
   },
   "source": [
    "## Objects and Classes"
   ]
  },
  {
   "cell_type": "code",
   "execution_count": null,
   "metadata": {
    "collapsed": true,
    "nbpresent": {
     "id": "67ab3475-6189-46f4-bc68-75f94eb17cdc"
    },
    "slideshow": {
     "slide_type": "slide"
    }
   },
   "outputs": [],
   "source": [
    "class Layers(object):\n",
    "    \n",
    "    def __init__(self, layers, label=None):\n",
    "        # Just make sure we end up with an array\n",
    "        self.layers = np.array(layers)\n",
    "        self.label = label or \"My log\"\n",
    "        self.length = self.layers.size  # But storing len in an attribute is unexpected...\n",
    "        \n",
    "    def __len__(self):  # ...better to do this.\n",
    "        return len(self.layers)\n",
    "        \n",
    "    def rcs(self):\n",
    "        uppers = self.layers[:-1]\n",
    "        lowers = self.layers[1:]\n",
    "        return (lowers-uppers) / (uppers+lowers)\n",
    "    \n",
    "    def plot(self, lw=0.5, color='#6699ff'):\n",
    "        fig = plt.figure(figsize=(2,6))\n",
    "        ax = fig.add_subplot(111)\n",
    "        ax.barh(range(len(self.layers)), self.layers, color=color, lw=lw, align='edge', height=1.0, alpha=1.0, zorder=10)\n",
    "        ax.grid(zorder=2)\n",
    "        ax.set_ylabel('Layers')\n",
    "        ax.set_title(self.label)\n",
    "        ax.set_xlim([-0.5,1.0])\n",
    "        ax.set_xlabel('Measurement (units)')\n",
    "        ax.invert_yaxis()  \n",
    "        #ax.set_xticks(ax.get_xticks()[::2])    # take out every second tick\n",
    "        ax.spines['right'].set_visible(False)  # hide the spine on the right\n",
    "        ax.yaxis.set_ticks_position('left')    # Only show ticks on the left and bottom spines\n",
    "        \n",
    "        plt.show()"
   ]
  },
  {
   "cell_type": "code",
   "execution_count": null,
   "metadata": {
    "collapsed": true,
    "nbpresent": {
     "id": "657e5f59-cd1c-4545-88c4-c8f31d8c4d05"
    },
    "slideshow": {
     "slide_type": "slide"
    }
   },
   "outputs": [],
   "source": [
    "velocities = [0.23, 0.34, 0.45, 0.25, 0.23, 0.35]"
   ]
  },
  {
   "cell_type": "code",
   "execution_count": null,
   "metadata": {
    "collapsed": true,
    "nbpresent": {
     "id": "2ad59292-4302-4b2c-acf5-52ef0fbe8ec0"
    }
   },
   "outputs": [],
   "source": [
    "l = Layers(velocities, label='Well # 1')"
   ]
  },
  {
   "cell_type": "code",
   "execution_count": null,
   "metadata": {
    "collapsed": false,
    "nbpresent": {
     "id": "946ec8d1-e3e2-47e9-85c7-26adc8f83f9e"
    }
   },
   "outputs": [],
   "source": [
    "l.label"
   ]
  },
  {
   "cell_type": "code",
   "execution_count": null,
   "metadata": {
    "collapsed": false,
    "nbpresent": {
     "id": "77a7e75c-420b-46da-baef-516458aa5f2c"
    }
   },
   "outputs": [],
   "source": [
    "l.plot()"
   ]
  }
 ],
 "metadata": {
  "anaconda-cloud": {},
  "celltoolbar": "Raw Cell Format",
  "kernelspec": {
   "display_name": "Python [Root]",
   "language": "python",
   "name": "Python [Root]"
  },
  "language_info": {
   "codemirror_mode": {
    "name": "ipython",
    "version": 3
   },
   "file_extension": ".py",
   "mimetype": "text/x-python",
   "name": "python",
   "nbconvert_exporter": "python",
   "pygments_lexer": "ipython3",
   "version": "3.5.2"
  },
  "nbpresent": {
   "slides": {
    "174941d4-bc70-40b8-9b83-4011eac9b6dc": {
     "id": "174941d4-bc70-40b8-9b83-4011eac9b6dc",
     "prev": "c68598bd-decb-49a6-a9d5-04cd7b4791df",
     "regions": {
      "34f5cc4f-0145-4cbd-a929-41f341fbc2b1": {
       "attrs": {
        "height": 1,
        "width": 1,
        "x": 0,
        "y": 0
       },
       "content": null,
       "id": "34f5cc4f-0145-4cbd-a929-41f341fbc2b1"
      },
      "5b4b07bd-5b39-4f7d-afe6-5642ac2c3879": {
       "attrs": {
        "height": 0.19095388203610056,
        "width": 0.8,
        "x": 0.1,
        "y": 0.09800965320926831
       },
       "content": null,
       "id": "5b4b07bd-5b39-4f7d-afe6-5642ac2c3879"
      },
      "cc316a70-434e-45b6-b470-bac71e0f0256": {
       "attrs": {
        "height": 0.1630890117807159,
        "width": 0.8,
        "x": 0.1,
        "y": 0.2870926135139205
       },
       "content": null,
       "id": "cc316a70-434e-45b6-b470-bac71e0f0256"
      }
     }
    },
    "1defb083-49dc-482b-b88a-9a9fea8b2c3a": {
     "id": "1defb083-49dc-482b-b88a-9a9fea8b2c3a",
     "layout": "manual",
     "prev": "ab6de76b-2f99-46a6-8240-889b2f28b419",
     "regions": {
      "0079ac32-1795-409b-92a6-aeaf82fe0c86": {
       "attrs": {
        "height": 0.1630890117807159,
        "width": 0.8,
        "x": 0.1,
        "y": 0.2870926135139205
       },
       "content": {
        "cell": "ab76d2da-5e80-4d3e-8047-33a7531130bd",
        "part": "whole"
       },
       "id": "0079ac32-1795-409b-92a6-aeaf82fe0c86"
      },
      "12e86bd6-493e-4a5f-abda-71ca710eff32": {
       "attrs": {
        "height": 0.16109866498998418,
        "width": 0.8,
        "x": 0.1,
        "y": 0.4503010503539197
       },
       "content": {
        "cell": "d8191010-fc2c-4f7b-9ccc-cbdbcda865cf",
        "part": "whole"
       },
       "id": "12e86bd6-493e-4a5f-abda-71ca710eff32"
      },
      "1a5dc6e0-22a3-45dc-9afb-5520a66ca5a5": {
       "attrs": {
        "height": 0.17304074573437442,
        "width": 0.8,
        "x": 0.1,
        "y": 0.6075384468217238
       },
       "content": {
        "cell": "9ebf9cbd-6f07-4410-9cfb-6b1760485305",
        "part": "whole"
       },
       "id": "1a5dc6e0-22a3-45dc-9afb-5520a66ca5a5"
      },
      "2f1e74d6-5f13-4552-8952-ff0e70e23eb5": {
       "attrs": {
        "height": 1,
        "width": 1,
        "x": 0,
        "y": 0
       },
       "content": null,
       "id": "2f1e74d6-5f13-4552-8952-ff0e70e23eb5"
      },
      "eadedadb-1149-4e51-88c0-9f6e50d87660": {
       "attrs": {
        "height": 0.19095388203610056,
        "width": 0.8,
        "x": 0.1,
        "y": 0.09800965320926831
       },
       "content": {
        "cell": "5efe0bf4-e1ab-413c-ad29-e3c3275731b2",
        "part": "whole"
       },
       "id": "eadedadb-1149-4e51-88c0-9f6e50d87660"
      }
     }
    },
    "4eb2ece2-e374-408e-9e9e-7511d5381c50": {
     "id": "4eb2ece2-e374-408e-9e9e-7511d5381c50",
     "prev": "d1bd056e-dc2c-4d88-88c6-5146dd230db6",
     "regions": {
      "178241a7-8c8c-4fec-8435-f84332705b53": {
       "attrs": {
        "height": 0.1630890117807159,
        "width": 0.8,
        "x": 0.1,
        "y": 0.2870926135139205
       },
       "content": {
        "cell": "96fd9a70-c2d7-4fee-b14e-ad56414e493b",
        "part": "whole"
       },
       "id": "178241a7-8c8c-4fec-8435-f84332705b53"
      },
      "7ee050a6-ecfd-4b6d-8e51-6607e77ff351": {
       "attrs": {
        "height": 1.2527740386266404,
        "width": 1,
        "x": -0.0022391401395731596,
        "y": -0.0019903278093055753
       },
       "content": {
        "cell": "fc3d89ed-4f2a-4f43-9f86-466b7342090b",
        "part": "whole"
       },
       "id": "7ee050a6-ecfd-4b6d-8e51-6607e77ff351"
      },
      "9f36defe-19df-465a-9e49-6d93bd91084a": {
       "attrs": {
        "height": 0.16507935857144757,
        "width": 0.8,
        "x": 0.1,
        "y": 0.4503010503539197
       },
       "content": {
        "cell": "c8039d3e-74bf-4d8b-963c-b0e5275bcd22",
        "part": "whole"
       },
       "id": "9f36defe-19df-465a-9e49-6d93bd91084a"
      },
      "b1494c08-2307-4f39-a2c2-8e7735441ea1": {
       "attrs": {
        "height": 0.19095388203610056,
        "width": 0.8,
        "x": 0.1,
        "y": 0.09800965320926831
       },
       "content": {
        "cell": "6f4b5b5f-19fa-4bc0-9974-9da565704d67",
        "part": "whole"
       },
       "id": "b1494c08-2307-4f39-a2c2-8e7735441ea1"
      }
     }
    },
    "ab6de76b-2f99-46a6-8240-889b2f28b419": {
     "id": "ab6de76b-2f99-46a6-8240-889b2f28b419",
     "layout": "manual",
     "prev": "174941d4-bc70-40b8-9b83-4011eac9b6dc",
     "regions": {
      "13924009-8a42-4ef4-a740-5ea1b8eab9e1": {
       "attrs": {
        "height": 0.16109866498998418,
        "width": 0.8,
        "x": 0.1,
        "y": 0.4503010503539197
       },
       "content": {
        "cell": "848257c0-f3ac-41e5-9241-92b4628e4676",
        "part": "whole"
       },
       "id": "13924009-8a42-4ef4-a740-5ea1b8eab9e1"
      },
      "1eca255f-6e85-4479-a1e1-89ecfc8b14d8": {
       "attrs": {
        "height": 0.19095388203610056,
        "width": 0.8,
        "x": 0.1,
        "y": 0.09800965320926831
       },
       "content": {
        "cell": "65a1b4b1-771f-46cb-b0d3-fd092219c085",
        "part": "whole"
       },
       "id": "1eca255f-6e85-4479-a1e1-89ecfc8b14d8"
      },
      "1f818aad-132a-4a8e-9c97-8a2c060bf20a": {
       "attrs": {
        "height": 0.1630890117807159,
        "width": 0.8,
        "x": 0.1,
        "y": 0.2870926135139205
       },
       "content": {
        "cell": "a75a4bc7-5b4a-429f-bc74-9f562dbdb996",
        "part": "whole"
       },
       "id": "1f818aad-132a-4a8e-9c97-8a2c060bf20a"
      },
      "6d2ee7d0-f6f8-44b3-a4fa-7034f0f8dc54": {
       "attrs": {
        "height": 1,
        "width": 1,
        "x": 0,
        "y": 0
       },
       "content": null,
       "id": "6d2ee7d0-f6f8-44b3-a4fa-7034f0f8dc54"
      },
      "febeb902-19f3-4689-8f9c-c1775f204819": {
       "attrs": {
        "height": 0.17304074573437442,
        "width": 0.8,
        "x": 0.1,
        "y": 0.6075384468217238
       },
       "id": "febeb902-19f3-4689-8f9c-c1775f204819"
      }
     }
    },
    "bb238ca2-01fd-48e2-a1d2-a3580fcdb9a9": {
     "id": "bb238ca2-01fd-48e2-a1d2-a3580fcdb9a9",
     "prev": "4eb2ece2-e374-408e-9e9e-7511d5381c50",
     "regions": {
      "017fe0a1-2dc4-4d32-8674-f7d3a310f6f4": {
       "attrs": {
        "height": 0.19095388203610056,
        "width": 0.8,
        "x": 0.1,
        "y": 0.09800965320926831
       },
       "content": null,
       "id": "017fe0a1-2dc4-4d32-8674-f7d3a310f6f4"
      },
      "5dfe53d0-ed9c-4976-a32a-129c68c4a838": {
       "attrs": {
        "height": 0.1630890117807159,
        "width": 0.8,
        "x": 0.1,
        "y": 0.2870926135139205
       },
       "content": null,
       "id": "5dfe53d0-ed9c-4976-a32a-129c68c4a838"
      },
      "d236485d-8221-4322-9fe2-ebceecbd2fd3": {
       "attrs": {
        "height": 1,
        "width": 1,
        "x": 0,
        "y": 0
       },
       "content": null,
       "id": "d236485d-8221-4322-9fe2-ebceecbd2fd3"
      }
     }
    },
    "c68598bd-decb-49a6-a9d5-04cd7b4791df": {
     "id": "c68598bd-decb-49a6-a9d5-04cd7b4791df",
     "prev": "bb238ca2-01fd-48e2-a1d2-a3580fcdb9a9",
     "regions": {
      "256295d3-af14-46b9-a9f7-c4b08a282cbc": {
       "attrs": {
        "height": 1,
        "width": 1,
        "x": 0,
        "y": 0
       },
       "content": null,
       "id": "256295d3-af14-46b9-a9f7-c4b08a282cbc"
      },
      "c78ad376-80f7-4f55-903e-c6de60bb84ae": {
       "attrs": {
        "height": 0.1630890117807159,
        "width": 0.8,
        "x": 0.1,
        "y": 0.2870926135139205
       },
       "content": null,
       "id": "c78ad376-80f7-4f55-903e-c6de60bb84ae"
      },
      "ecd353e6-4fa5-450b-bfce-361107247d84": {
       "attrs": {
        "height": 0.19095388203610056,
        "width": 0.8,
        "x": 0.1,
        "y": 0.09800965320926831
       },
       "content": null,
       "id": "ecd353e6-4fa5-450b-bfce-361107247d84"
      }
     }
    },
    "d1bd056e-dc2c-4d88-88c6-5146dd230db6": {
     "id": "d1bd056e-dc2c-4d88-88c6-5146dd230db6",
     "prev": "e188f588-0f58-41b1-b223-aff5826574fe",
     "regions": {
      "a7420bfd-c270-4a3c-b102-f6e6df2d9b43": {
       "attrs": {
        "height": 0.1630890117807159,
        "width": 0.8,
        "x": 0.1,
        "y": 0.2870926135139205
       },
       "content": {
        "cell": "10761551-be56-4eb9-9c01-fcfa3a75f406",
        "part": "whole"
       },
       "id": "a7420bfd-c270-4a3c-b102-f6e6df2d9b43"
      },
      "d7abf4db-454d-436f-9ce1-a9bf1884ceb8": {
       "attrs": {
        "height": 0.19095388203610056,
        "width": 0.8,
        "x": 0.1,
        "y": 0.09800965320926831
       },
       "content": {
        "cell": "7795a103-e621-4b3c-b393-3d81d59ae4fc",
        "part": "source"
       },
       "id": "d7abf4db-454d-436f-9ce1-a9bf1884ceb8"
      },
      "ec63ec17-359e-43a8-888a-c650a29f9ae9": {
       "attrs": {
        "height": 1,
        "width": 1,
        "x": 0,
        "y": 0
       },
       "content": {
        "cell": "7795a103-e621-4b3c-b393-3d81d59ae4fc",
        "part": "whole"
       },
       "id": "ec63ec17-359e-43a8-888a-c650a29f9ae9"
      }
     }
    },
    "e188f588-0f58-41b1-b223-aff5826574fe": {
     "id": "e188f588-0f58-41b1-b223-aff5826574fe",
     "prev": null,
     "regions": {
      "08eea5ed-2f31-4941-8cef-697ce5de9662": {
       "attrs": {
        "height": 1,
        "width": 1,
        "x": 0,
        "y": 0
       },
       "content": {
        "cell": "1320836f-4cda-4393-b593-6566c1271314",
        "part": "whole"
       },
       "id": "08eea5ed-2f31-4941-8cef-697ce5de9662"
      }
     }
    }
   },
   "themes": {
    "default": "85c37f3a-f469-4c73-88b7-641a3273943b",
    "theme": {
     "a269c52e-3e2d-4e5a-82d3-691518072e1f": {
      "id": "a269c52e-3e2d-4e5a-82d3-691518072e1f",
      "palette": {
       "19cc588f-0593-49c9-9f4b-e4d7cc113b1c": {
        "id": "19cc588f-0593-49c9-9f4b-e4d7cc113b1c",
        "rgb": [
         252,
         252,
         252
        ]
       },
       "31af15d2-7e15-44c5-ab5e-e04b16a89eff": {
        "id": "31af15d2-7e15-44c5-ab5e-e04b16a89eff",
        "rgb": [
         68,
         68,
         68
        ]
       },
       "50f92c45-a630-455b-aec3-788680ec7410": {
        "id": "50f92c45-a630-455b-aec3-788680ec7410",
        "rgb": [
         155,
         177,
         192
        ]
       },
       "c5cc3653-2ee1-402a-aba2-7caae1da4f6c": {
        "id": "c5cc3653-2ee1-402a-aba2-7caae1da4f6c",
        "rgb": [
         43,
         126,
         184
        ]
       },
       "efa7f048-9acb-414c-8b04-a26811511a21": {
        "id": "efa7f048-9acb-414c-8b04-a26811511a21",
        "rgb": [
         25.118061674008803,
         73.60176211453744,
         107.4819383259912
        ]
       }
      },
      "rules": {
       "blockquote": {
        "color": "50f92c45-a630-455b-aec3-788680ec7410"
       },
       "code": {
        "font-family": "Anonymous Pro"
       },
       "h1": {
        "color": "c5cc3653-2ee1-402a-aba2-7caae1da4f6c",
        "font-family": "Lato",
        "font-size": 8
       },
       "h2": {
        "color": "c5cc3653-2ee1-402a-aba2-7caae1da4f6c",
        "font-family": "Lato",
        "font-size": 6
       },
       "h3": {
        "color": "50f92c45-a630-455b-aec3-788680ec7410",
        "font-family": "Lato",
        "font-size": 5.5
       },
       "h4": {
        "color": "c5cc3653-2ee1-402a-aba2-7caae1da4f6c",
        "font-family": "Lato",
        "font-size": 5
       },
       "h5": {
        "font-family": "Lato"
       },
       "h6": {
        "font-family": "Lato"
       },
       "h7": {
        "font-family": "Lato"
       },
       "pre": {
        "font-family": "Anonymous Pro",
        "font-size": 4
       }
      },
      "text-base": {
       "font-family": "Merriweather",
       "font-size": 4
      }
     }
    }
   }
  }
 },
 "nbformat": 4,
 "nbformat_minor": 0
}
