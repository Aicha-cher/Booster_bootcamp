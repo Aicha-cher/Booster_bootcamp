{
 "cells": [
  {
   "cell_type": "markdown",
   "metadata": {
    "slideshow": {
     "slide_type": "slide"
    }
   },
   "source": [
    "# Fundamentals of Programming\n",
    "\n",
    "Evan Bianco\n",
    "[agilegeoscience](http://agilegeoscience.com), [@EvanBianco](http://twitter.com/EvanBianco)"
   ]
  },
  {
   "cell_type": "markdown",
   "metadata": {},
   "source": [
    "- Variables and assignment\n",
    "\n",
    "- Native data types\n",
    "\n",
    "- Operators and expressions\n",
    "\n",
    "- Data collections and data structures\n",
    "\n",
    "- Procedures and control: loops and making decisions\n",
    "\n",
    "- Getting data, manipulating data\n",
    "\n",
    "- Defining functions and calling functions \n",
    "\n",
    "- Writing and running programs \n",
    "\n",
    "- Objects and classes"
   ]
  },
  {
   "cell_type": "markdown",
   "metadata": {
    "slideshow": {
     "slide_type": "slide"
    }
   },
   "source": [
    "# Variables and assignment"
   ]
  },
  {
   "cell_type": "code",
   "execution_count": null,
   "metadata": {
    "collapsed": true,
    "slideshow": {
     "slide_type": "fragment"
    }
   },
   "outputs": [],
   "source": [
    "x = 7\n",
    "y = 10"
   ]
  },
  {
   "cell_type": "code",
   "execution_count": null,
   "metadata": {
    "collapsed": true,
    "slideshow": {
     "slide_type": "fragment"
    }
   },
   "outputs": [],
   "source": [
    "x, y"
   ]
  },
  {
   "cell_type": "code",
   "execution_count": null,
   "metadata": {
    "collapsed": true,
    "slideshow": {
     "slide_type": "fragment"
    }
   },
   "outputs": [],
   "source": [
    "x"
   ]
  },
  {
   "cell_type": "code",
   "execution_count": null,
   "metadata": {
    "collapsed": true,
    "slideshow": {
     "slide_type": "fragment"
    }
   },
   "outputs": [],
   "source": [
    "x.__repr__()"
   ]
  },
  {
   "cell_type": "markdown",
   "metadata": {
    "slideshow": {
     "slide_type": "subslide"
    }
   },
   "source": [
    "Checking the `type` of a variable"
   ]
  },
  {
   "cell_type": "code",
   "execution_count": null,
   "metadata": {
    "collapsed": true,
    "slideshow": {
     "slide_type": "fragment"
    }
   },
   "outputs": [],
   "source": [
    "type(x)"
   ]
  },
  {
   "cell_type": "code",
   "execution_count": null,
   "metadata": {
    "collapsed": true,
    "slideshow": {
     "slide_type": "fragment"
    }
   },
   "outputs": [],
   "source": [
    "%whos"
   ]
  },
  {
   "cell_type": "code",
   "execution_count": null,
   "metadata": {
    "collapsed": true,
    "slideshow": {
     "slide_type": "fragment"
    }
   },
   "outputs": [],
   "source": [
    "del y"
   ]
  },
  {
   "cell_type": "code",
   "execution_count": null,
   "metadata": {
    "collapsed": true,
    "slideshow": {
     "slide_type": "fragment"
    }
   },
   "outputs": [],
   "source": [
    "%whos "
   ]
  },
  {
   "cell_type": "markdown",
   "metadata": {
    "slideshow": {
     "slide_type": "slide"
    }
   },
   "source": [
    "# Native data `types`"
   ]
  },
  {
   "cell_type": "code",
   "execution_count": null,
   "metadata": {
    "collapsed": true,
    "slideshow": {
     "slide_type": "fragment"
    }
   },
   "outputs": [],
   "source": [
    "z = 1.4 + 2.3"
   ]
  },
  {
   "cell_type": "code",
   "execution_count": null,
   "metadata": {
    "collapsed": true,
    "slideshow": {
     "slide_type": "fragment"
    }
   },
   "outputs": [],
   "source": [
    "print(z)"
   ]
  },
  {
   "cell_type": "code",
   "execution_count": null,
   "metadata": {
    "collapsed": true,
    "slideshow": {
     "slide_type": "subslide"
    }
   },
   "outputs": [],
   "source": [
    "c = 2 + 1.5j  # same as writing: complex(2, 1.5) \n",
    "c"
   ]
  },
  {
   "cell_type": "code",
   "execution_count": null,
   "metadata": {
    "collapsed": true,
    "slideshow": {
     "slide_type": "fragment"
    }
   },
   "outputs": [],
   "source": [
    "5 / 3"
   ]
  },
  {
   "cell_type": "code",
   "execution_count": null,
   "metadata": {
    "collapsed": true,
    "slideshow": {
     "slide_type": "fragment"
    }
   },
   "outputs": [],
   "source": [
    "5 // 3"
   ]
  },
  {
   "cell_type": "markdown",
   "metadata": {
    "slideshow": {
     "slide_type": "subslide"
    }
   },
   "source": [
    "Why are there 2 kinds of numbers?"
   ]
  },
  {
   "cell_type": "markdown",
   "metadata": {
    "slideshow": {
     "slide_type": "slide"
    }
   },
   "source": [
    "## Strings `str`"
   ]
  },
  {
   "cell_type": "code",
   "execution_count": null,
   "metadata": {
    "collapsed": true,
    "slideshow": {
     "slide_type": "fragment"
    }
   },
   "outputs": [],
   "source": [
    "s1 = '#Nordegg:'"
   ]
  },
  {
   "cell_type": "code",
   "execution_count": null,
   "metadata": {
    "collapsed": false,
    "slideshow": {
     "slide_type": "-"
    }
   },
   "outputs": [],
   "source": [
    "s1.strip('#:')"
   ]
  },
  {
   "cell_type": "code",
   "execution_count": null,
   "metadata": {
    "collapsed": true,
    "slideshow": {
     "slide_type": "-"
    }
   },
   "outputs": [],
   "source": [
    "s1.startswith('Nor')"
   ]
  },
  {
   "cell_type": "markdown",
   "metadata": {
    "slideshow": {
     "slide_type": "subslide"
    }
   },
   "source": [
    "## `str` indexing (how to count, part 1)\n",
    "\n",
    "----\n",
    "- **Exercise**: return the `e` character in `s`\n"
   ]
  },
  {
   "cell_type": "markdown",
   "metadata": {
    "slideshow": {
     "slide_type": "fragment"
    }
   },
   "source": [
    "Try `help(s)`, `s1?`, `s1??`, `s1.<tab>`, `s1.upper()` , `s1.strip()`, `s1.startswith()`, `s1.pop()`"
   ]
  },
  {
   "cell_type": "markdown",
   "metadata": {
    "slideshow": {
     "slide_type": "slide"
    }
   },
   "source": [
    "## Can we add strings together? "
   ]
  },
  {
   "cell_type": "code",
   "execution_count": null,
   "metadata": {
    "collapsed": true,
    "slideshow": {
     "slide_type": "-"
    }
   },
   "outputs": [],
   "source": [
    "s2, s3 = 'Limestone', 'Shale'\n",
    "\n",
    "s2 + s3"
   ]
  },
  {
   "cell_type": "code",
   "execution_count": null,
   "metadata": {
    "collapsed": true
   },
   "outputs": [],
   "source": [
    "print(s2 + s3)"
   ]
  },
  {
   "cell_type": "code",
   "execution_count": null,
   "metadata": {
    "collapsed": true
   },
   "outputs": [],
   "source": [
    "print(s2 * 5)"
   ]
  },
  {
   "cell_type": "code",
   "execution_count": null,
   "metadata": {
    "collapsed": true
   },
   "outputs": [],
   "source": [
    "print(s2 + 5)"
   ]
  },
  {
   "cell_type": "code",
   "execution_count": null,
   "metadata": {
    "collapsed": true,
    "slideshow": {
     "slide_type": "fragment"
    }
   },
   "outputs": [],
   "source": [
    "lithology = s + s2 + ' has minor ' + s3 + ' fragments'\n",
    "lithology"
   ]
  },
  {
   "cell_type": "code",
   "execution_count": null,
   "metadata": {
    "collapsed": true,
    "slideshow": {
     "slide_type": "fragment"
    }
   },
   "outputs": [],
   "source": [
    "'{0} {1} has minor {2} fragments'.format(s, s2, s3)"
   ]
  },
  {
   "cell_type": "markdown",
   "metadata": {
    "slideshow": {
     "slide_type": "slide"
    }
   },
   "source": [
    "## String methods and string formatting\n",
    "----\n",
    "- **Exercise**: Use a combination of string methods on `s` text formatting to produce the following output:\n",
    "\n",
    "    `> The Nordegg limestone has minor shale fragments` \n",
    "    \n",
    "    (ensure sentence case and remove `'#'`, `':'`, `'\\n')"
   ]
  },
  {
   "cell_type": "markdown",
   "metadata": {
    "slideshow": {
     "slide_type": "slide"
    }
   },
   "source": [
    "# Operators and expressions"
   ]
  },
  {
   "cell_type": "markdown",
   "metadata": {
    "collapsed": true,
    "slideshow": {
     "slide_type": "fragment"
    }
   },
   "source": [
    "* mathematical operations\n",
    "\n",
    "* comparison operations\n",
    "\n",
    "* bitwise operations\n",
    "\n",
    "* augmented assignment, copies, and pointers\n",
    "\n",
    "* boolean expressions\n",
    "\n",
    "* conversion functions"
   ]
  },
  {
   "cell_type": "markdown",
   "metadata": {
    "collapsed": true,
    "slideshow": {
     "slide_type": "subslide"
    }
   },
   "source": [
    "### mathematical operations"
   ]
  },
  {
   "cell_type": "code",
   "execution_count": null,
   "metadata": {
    "collapsed": true,
    "slideshow": {
     "slide_type": "fragment"
    }
   },
   "outputs": [],
   "source": []
  },
  {
   "cell_type": "markdown",
   "metadata": {
    "collapsed": true,
    "slideshow": {
     "slide_type": "subslide"
    }
   },
   "source": [
    "### comparison operations"
   ]
  },
  {
   "cell_type": "code",
   "execution_count": null,
   "metadata": {
    "collapsed": true,
    "slideshow": {
     "slide_type": "fragment"
    }
   },
   "outputs": [],
   "source": []
  },
  {
   "cell_type": "markdown",
   "metadata": {
    "slideshow": {
     "slide_type": "subslide"
    }
   },
   "source": [
    "### augmented assignment, copies and pointers"
   ]
  },
  {
   "cell_type": "code",
   "execution_count": null,
   "metadata": {
    "collapsed": true,
    "slideshow": {
     "slide_type": "fragment"
    }
   },
   "outputs": [],
   "source": [
    "y += y / 125.0\n",
    "y"
   ]
  },
  {
   "cell_type": "markdown",
   "metadata": {
    "slideshow": {
     "slide_type": "slide"
    }
   },
   "source": [
    "# Data collections and data structures\n",
    "\n",
    "`list, dict, tuples, sets`"
   ]
  },
  {
   "cell_type": "markdown",
   "metadata": {
    "slideshow": {
     "slide_type": "slide"
    }
   },
   "source": [
    "### `list`\n",
    "\n",
    "Lists in Python are one-dimensional, ordered containers whose elements may be any Python objects. Lists are *mutable* and have methods for adding and removing elements to and from themselves. The literal syntax for lists is surround commas seperated values with square brackets (`[]`). The square brackets are a syntactic hint that lists are indexable."
   ]
  },
  {
   "cell_type": "code",
   "execution_count": 5,
   "metadata": {
    "collapsed": false,
    "slideshow": {
     "slide_type": "subslide"
    }
   },
   "outputs": [
    {
     "data": {
      "text/plain": [
       "['C', 'S', 'P', 'G', '']"
      ]
     },
     "execution_count": 5,
     "metadata": {},
     "output_type": "execute_result"
    }
   ],
   "source": [
    "society = 'C.S.P.G.'  # this is a string\n",
    "society.split('.')"
   ]
  },
  {
   "cell_type": "code",
   "execution_count": 12,
   "metadata": {
    "collapsed": false
   },
   "outputs": [
    {
     "data": {
      "text/plain": [
       "'C.S.P.G. convention'"
      ]
     },
     "execution_count": 12,
     "metadata": {},
     "output_type": "execute_result"
    }
   ],
   "source": [
    "s = society + ' convention'"
   ]
  },
  {
   "cell_type": "code",
   "execution_count": 18,
   "metadata": {
    "collapsed": false,
    "slideshow": {
     "slide_type": "subslide"
    }
   },
   "outputs": [],
   "source": [
    "fib = [1, 1, 2, 3, 5, 8] \n",
    "fib.append(13)"
   ]
  },
  {
   "cell_type": "code",
   "execution_count": 19,
   "metadata": {
    "collapsed": false,
    "slideshow": {
     "slide_type": "subslide"
    }
   },
   "outputs": [
    {
     "data": {
      "text/plain": [
       "[1, 1, 2, 3, 5, 8, 13, 21.0, 34.0, 55.0]"
      ]
     },
     "execution_count": 19,
     "metadata": {},
     "output_type": "execute_result"
    }
   ],
   "source": [
    "fib.extend([21.0, 34.0, 55.0])\n",
    "fib"
   ]
  },
  {
   "cell_type": "code",
   "execution_count": 20,
   "metadata": {
    "collapsed": false,
    "slideshow": {
     "slide_type": "subslide"
    }
   },
   "outputs": [
    {
     "data": {
      "text/plain": [
       "[1, 1, 2, 3, 5, 8, 13, 21.0, 34.0, 55.0, 89.0, 144.0]"
      ]
     },
     "execution_count": 20,
     "metadata": {},
     "output_type": "execute_result"
    }
   ],
   "source": [
    "fib += [89.0, 144.0]\n",
    "fib"
   ]
  },
  {
   "cell_type": "markdown",
   "metadata": {
    "slideshow": {
     "slide_type": "slide"
    }
   },
   "source": [
    "### Indexing, slicing, striding"
   ]
  },
  {
   "cell_type": "markdown",
   "metadata": {
    "slideshow": {
     "slide_type": "-"
    }
   },
   "source": [
    "In addition to accessing a single element in a `list` or `string`, we can also *slice* or *stride* into data structures to access multiple elements at once."
   ]
  },
  {
   "cell_type": "code",
   "execution_count": null,
   "metadata": {
    "collapsed": true,
    "slideshow": {
     "slide_type": "subslide"
    }
   },
   "outputs": [],
   "source": [
    "name = 'Cambrian (C)'\n",
    "name"
   ]
  },
  {
   "cell_type": "code",
   "execution_count": null,
   "metadata": {
    "collapsed": false,
    "slideshow": {
     "slide_type": "slide"
    }
   },
   "outputs": [],
   "source": [
    "name = 'Cambrian (C)'"
   ]
  },
  {
   "cell_type": "markdown",
   "metadata": {
    "slideshow": {
     "slide_type": "-"
    }
   },
   "source": [
    "## Without using the Python interpreter, what is the expected output of the following commands?:\n",
    "\n",
    "- a) `name[:7]`"
   ]
  },
  {
   "cell_type": "markdown",
   "metadata": {
    "slideshow": {
     "slide_type": "fragment"
    }
   },
   "source": [
    "- b) `name[:-4]`"
   ]
  },
  {
   "cell_type": "markdown",
   "metadata": {
    "slideshow": {
     "slide_type": "fragment"
    }
   },
   "source": [
    "- c) `name[3:7]`"
   ]
  },
  {
   "cell_type": "markdown",
   "metadata": {
    "slideshow": {
     "slide_type": "fragment"
    }
   },
   "source": [
    "- d) `name[::2]`"
   ]
  },
  {
   "cell_type": "code",
   "execution_count": null,
   "metadata": {
    "collapsed": true,
    "slideshow": {
     "slide_type": "slide"
    }
   },
   "outputs": [],
   "source": [
    "age_names = ['Cambrian (C)', 'Ordivician (O)',  'Silurian (S)',  'Devonian (D)', \n",
    "           'Mississipian (M)', 'Pennsylvanian (IP)', 'Permian (P)',\n",
    "           'Triassic (Tr)', 'Jurassic (J)',  'Cretaceous (C)', \n",
    "           'Tertiary (T)', 'Quaternary (Q)']"
   ]
  },
  {
   "cell_type": "markdown",
   "metadata": {
    "slideshow": {
     "slide_type": "subslide"
    }
   },
   "source": [
    "## Indexing practice\n",
    "\n",
    "----\n",
    "**Exercise**:\n",
    "\n",
    "- return the string: \n",
    "\n",
    "    ` > Triassic (Tr)` \n",
    "\n",
    "\n",
    "- return just the word: \n",
    "\n",
    "    ` > Triassic`\n",
    "\n",
    "\n",
    "- return the abbreviation:\n",
    "\n",
    "    ` > (Tr)` enclosed in parenthesis\n",
    "\n",
    "\n",
    "- return just the abbreviation: \n",
    "\n",
    "    ` > Tr` \n",
    "\n",
    "\n",
    "(bonus points if you can do (d) all in one line)"
   ]
  },
  {
   "cell_type": "markdown",
   "metadata": {
    "slideshow": {
     "slide_type": "slide"
    }
   },
   "source": [
    "## Nested `list`\n",
    "\n",
    "lists can contain anything*"
   ]
  },
  {
   "cell_type": "code",
   "execution_count": null,
   "metadata": {
    "collapsed": true,
    "slideshow": {
     "slide_type": "fragment"
    }
   },
   "outputs": [],
   "source": [
    "age_list = [['Cambrian (C)', [544,495]], ['Ordivician (O)', [495, 492] ], \n",
    "            ['Silurian (S)', [442, 416]], ['Devonian (D)',[416, 354]], \n",
    "            ['Mississipian (M)', [354, 324]], ['Pennsylvanian (IP)', [324, 295]], \n",
    "            ['Permian (P)', [304, 248]], ['Triassic (Tr)', [248, 205]], \n",
    "            ['Jurassic (J)', [205, 144]], ['Cretaceous (C)', [160, 65]], \n",
    "            ['Tertiary (T)', [65, 1.8]], ['Quaternary (Q)']\n",
    "            ]\n",
    "# But at some point it just gets impractical"
   ]
  },
  {
   "cell_type": "markdown",
   "metadata": {
    "slideshow": {
     "slide_type": "slide"
    }
   },
   "source": [
    "### `dicts`\n",
    "\n",
    "Dictionaries are probably *the most important* data structure in Python... with the possible exception of ndarrays. A dictionary, or `dict`, is a mutable, unordered collection of unique key / value pairs. \n",
    "\n",
    "For example, we could store a 'row' of our mini 'database' like this:\n",
    "\n",
    "    {\"Name\": \"Cambrian\", \"Abbreviation\": \"C\", \"Start\": 544, \"End\": 495}\n",
    "    \n",
    "The structure we choose depends on features we want. To preserve order, we might make a list of dicts."
   ]
  },
  {
   "cell_type": "code",
   "execution_count": null,
   "metadata": {
    "collapsed": true
   },
   "outputs": [],
   "source": [
    "ages = {\n",
    "    'Cambrian': {\"abbreviation\": \"C\", \"start\": 544, \"end\": 495},\n",
    "    'Ordivician': {\"abbreviation\": \"O\", \"start\": 495, \"end\": 492},  \n",
    "    'Silurian': {\"abbreviation\": \"S\", \"start\": 442, \"end\": 416}, \n",
    "    'Devonian': {\"abbreviation\": \"D\", \"start\": 416, \"end\": 354},\n",
    "    'Mississipian': {\"abbreviation\": \"M\", \"start\": 354, \"end\": 324},\n",
    "    'Pennsylvanian': {\"abbreviation\": \"IP\", \"start\": 324, \"end\": 295}, \n",
    "    'Permian': {\"abbreviation\": \"P\", \"start\": 304, \"end\": 248},\n",
    "    'Triassic': {\"abbreviation\": \"Tr\", \"start\": 248, \"end\": 205},\n",
    "    'Jurassic': {\"abbreviation\": \"J\", \"start\": 205, \"end\": 144}, \n",
    "    'Cretaceous': {\"abbreviation\": \"C\", \"start\": 160, \"end\": 65}, \n",
    "    'Tertiary': {\"abbreviation\": \"T\", \"start\": 65, \"end\": 1.8}\n",
    "}"
   ]
  },
  {
   "cell_type": "markdown",
   "metadata": {
    "slideshow": {
     "slide_type": "slide"
    }
   },
   "source": [
    "----\n",
    "**Exercise**: what is the expected output of:\n",
    "\n",
    "* a) `ages['Triassic']`\n",
    "\n",
    "* b) `ages['Jurassic']['Start']`\n",
    "\n",
    "* c) What command would you type to return the age of the end of the Permian, 248?\n",
    "\n",
    "* d) The start of the Cretaceous is wrong: it should be 144. Change it to the correct value.\n",
    "\n",
    "* e) We've lost the dates for the Quaternary Period [1.8 mya to present (0)]. Index into that entry, and append it."
   ]
  },
  {
   "cell_type": "code",
   "execution_count": null,
   "metadata": {
    "collapsed": false,
    "slideshow": {
     "slide_type": "fragment"
    }
   },
   "outputs": [],
   "source": [
    "# your code here"
   ]
  },
  {
   "cell_type": "markdown",
   "metadata": {
    "slideshow": {
     "slide_type": "slide"
    }
   },
   "source": [
    "### `tuples`\n",
    "\n",
    "*Tuples* are the immutable form of lists. They behave almost exactly the same as lists in every way except that you cannot change any of their values. There are no `append()` or `extend()` methods, and there are no *in-place* operators. \n",
    "\n",
    "They also differ from lists in their syntax. They are so central to how Python works, that *tuples* are defined by commas. Oftentimes, tuples will be seen surrounded by parentheses. These parentheses only serve to group actions or make the code more readable, not to actually define tuples."
   ]
  },
  {
   "cell_type": "code",
   "execution_count": null,
   "metadata": {
    "collapsed": false,
    "slideshow": {
     "slide_type": "fragment"
    }
   },
   "outputs": [],
   "source": [
    "a = (1,2,3,4)  # a length-4 tuple\n",
    "b = (42,)      # length-1 tuple defined by the comma\n",
    "c = (42)       # not a tuple, just the number 42\n",
    "d = ()         # length-0 tuple- no commas means no elements\n",
    "e = 42, 1      # a length-2 tuple"
   ]
  },
  {
   "cell_type": "markdown",
   "metadata": {
    "slideshow": {
     "slide_type": "slide"
    }
   },
   "source": [
    "You can concatenate tuples together in the same way as lists, but be careful about the order of opeartions. This is where parentheses come in handy,"
   ]
  },
  {
   "cell_type": "markdown",
   "metadata": {
    "slideshow": {
     "slide_type": "subslide"
    }
   },
   "source": [
    "(1, 2) + (3, 4)"
   ]
  },
  {
   "cell_type": "code",
   "execution_count": null,
   "metadata": {
    "collapsed": true,
    "slideshow": {
     "slide_type": "-"
    }
   },
   "outputs": [],
   "source": [
    "(1,2)+(3,4)"
   ]
  },
  {
   "cell_type": "markdown",
   "metadata": {
    "slideshow": {
     "slide_type": "subslide"
    }
   },
   "source": [
    "Note that even though tuples are immutable, they may have mutable elements. Suppose that we have a list embedded in a tuple. This list may be modified in-place even though the list may not be removed or replaced wholesale:"
   ]
  },
  {
   "cell_type": "code",
   "execution_count": null,
   "metadata": {
    "collapsed": false
   },
   "outputs": [],
   "source": [
    "x = 1.0, [2, 4], 16\n",
    "x[1].append(8)\n",
    "x"
   ]
  },
  {
   "cell_type": "markdown",
   "metadata": {
    "slideshow": {
     "slide_type": "slide"
    }
   },
   "source": [
    "### `Set`"
   ]
  },
  {
   "cell_type": "markdown",
   "metadata": {},
   "source": [
    "Instances of the `set` type are equivalent to mathematical sets. Like their math counterparts, literal sets in Python are defined by comma seperated values between curly braces ({}). Sets are unordered containers of unique values. Duplicated elements are ignored. Beacuse they unordered, sets are not sequences and cannot be duplicated."
   ]
  },
  {
   "cell_type": "code",
   "execution_count": null,
   "metadata": {
    "collapsed": false,
    "slideshow": {
     "slide_type": "subslide"
    }
   },
   "outputs": [],
   "source": [
    "# a literal set formed with elements of various types\n",
    "{1.0, 10, \"one hundred\", (1, 0, 0, 0)}"
   ]
  },
  {
   "cell_type": "code",
   "execution_count": null,
   "metadata": {
    "collapsed": true
   },
   "outputs": [],
   "source": [
    "# a literal set OF special values\n",
    "{True, False, None, \"\", 0.0, 0}"
   ]
  },
  {
   "cell_type": "code",
   "execution_count": null,
   "metadata": {
    "collapsed": true
   },
   "outputs": [],
   "source": [
    "# conversion from a list to a set\n",
    "set([2.0, 4, \"eight\", (16,), 4, 4, 2.0])"
   ]
  },
  {
   "cell_type": "markdown",
   "metadata": {},
   "source": [
    "Here's a good time to take a break\n",
    "\n",
    "- Variables and Assignment\n",
    "- Native data types\n",
    "- Operators and Expressions\n",
    "- Data collections and data structures\n",
    "- <font color='lightgrey'>Procedures and control: Loops and Making choices</font>\n",
    "- <font color='lightgrey'>Getting data, manipulating data</font>\n",
    "- <font color='lightgrey'>Defining functions and calling functions</font>\n",
    "- <font color='lightgrey'>Writing and running programs</font>\n",
    "- <font color='lightgrey'>Objects and classes</font>"
   ]
  },
  {
   "cell_type": "markdown",
   "metadata": {},
   "source": [
    "----\n",
    "**Exercise** manipulating and viewing lists:\n",
    "\n",
    "* a) create a new list that has the integer 1 for sand and 0 for shale.\n",
    "* b) using `plt.plot()` create a plot of the porosity values\n",
    "* c) make a depth vs porosity plot so depth is vertically downwards\n",
    "* d) Use `plt.scatter()` to make a cross plot of `gamma` vs `porosity`\n",
    "* f) Explore other keyword arguments for `plt.plot()` and `plt.scatter` to pretty things up\n",
    "* bonus e) Use the keyword `c` in the call to `scatter` to distinguish between sand and shale"
   ]
  },
  {
   "cell_type": "code",
   "execution_count": null,
   "metadata": {
    "collapsed": false
   },
   "outputs": [],
   "source": [
    "layers = ['shale','shale','shale','sand','sand','sand','sand','shale','shale','shale']\n",
    "depth = [10, 11, 12, 13, 14, 15, 16, 17, 18, 19]\n",
    "porosity = [2, 3, 2, 14, 18, 17, 14, 2, 3, 3]\n",
    "gamma = [85, 90, 77, 23, 27, 31, 25, 110, 113, 108]"
   ]
  },
  {
   "cell_type": "markdown",
   "metadata": {
    "slideshow": {
     "slide_type": "slide"
    }
   },
   "source": [
    "# Procedures and control: loops and making decisions"
   ]
  },
  {
   "cell_type": "markdown",
   "metadata": {
    "slideshow": {
     "slide_type": "slide"
    }
   },
   "source": [
    "## Loops\n",
    "\n",
    "*Doing stuff many times*\n",
    "\n",
    "the <code><font color=\"green\">while</font></code> loop\n",
    "\n",
    "the <code><font color=\"green\">for</font></code> loop"
   ]
  },
  {
   "cell_type": "code",
   "execution_count": null,
   "metadata": {
    "collapsed": true,
    "slideshow": {
     "slide_type": "-"
    }
   },
   "outputs": [],
   "source": [
    "layers = ['shale','shale','shale','sand','sand','sand','sand','shale','shale','shale']"
   ]
  },
  {
   "cell_type": "code",
   "execution_count": null,
   "metadata": {
    "collapsed": true
   },
   "outputs": [],
   "source": [
    "# for loop syntax\n",
    "for val in gamma:\n",
    "    print(val)"
   ]
  },
  {
   "cell_type": "markdown",
   "metadata": {},
   "source": [
    "<font color=\"#0A5394\">**\\*iteration, *iterable**</font>"
   ]
  },
  {
   "cell_type": "markdown",
   "metadata": {},
   "source": [
    "## List comprehension"
   ]
  },
  {
   "cell_type": "code",
   "execution_count": null,
   "metadata": {
    "collapsed": true
   },
   "outputs": [],
   "source": [
    "[val*2 for val in gamma]"
   ]
  },
  {
   "cell_type": "code",
   "execution_count": null,
   "metadata": {
    "collapsed": false
   },
   "outputs": [],
   "source": [
    "# Turn these loops into list comprehensions:\n",
    "\n",
    "squares = []\n",
    "for n in range(20):\n",
    "    squares.append(n**2)\n",
    "    \n",
    "names = ['William Smith', 'Mary Anning', 'Steve Gould']\n",
    "short = []\n",
    "for name in names:\n",
    "    initial = name[0]\n",
    "    surname = name.split()[-1]\n",
    "    short.append(surname + initial)"
   ]
  },
  {
   "cell_type": "markdown",
   "metadata": {
    "slideshow": {
     "slide_type": "slide"
    }
   },
   "source": [
    "\n",
    "\n",
    "## Making decisions\n",
    "\n",
    "The <code><font color=\"green\">if</font></code> statement\n",
    "\n",
    "use a loop and if / else statements to transform the list `layers` into a pay flag:\n",
    "\n",
    "`pay = [0, 0, 0, 1, 1, 1, 1, 0, 0, 0]`"
   ]
  },
  {
   "cell_type": "code",
   "execution_count": 23,
   "metadata": {
    "collapsed": false
   },
   "outputs": [],
   "source": [
    "layers = ['shale','shale','shale','sand','sand','sand','sand','shale','shale','shale']\n",
    "# the if statement:\n"
   ]
  },
  {
   "cell_type": "markdown",
   "metadata": {},
   "source": [
    "<font color=\"#0A5394\">**\\*conditionals**</font>"
   ]
  },
  {
   "cell_type": "markdown",
   "metadata": {
    "slideshow": {
     "slide_type": "slide"
    }
   },
   "source": [
    "# Getting data..."
   ]
  },
  {
   "cell_type": "markdown",
   "metadata": {
    "slideshow": {
     "slide_type": "slide"
    }
   },
   "source": [
    "## ... from text files"
   ]
  },
  {
   "cell_type": "markdown",
   "metadata": {},
   "source": [
    "You can explicitly read from and write to files directly in your code. Python makes working with files pretty simple.\n",
    "\n",
    "The first step to working with a text file is to obtain a 'file object' using `open`."
   ]
  },
  {
   "cell_type": "code",
   "execution_count": 30,
   "metadata": {
    "collapsed": true
   },
   "outputs": [],
   "source": [
    "## Open the file with read only permit\n",
    "fname = 'data/L30_tops.txt'\n",
    "\n",
    "with open(fname, 'r') as f:  # use 'w' to write and 'a' to append to a file. Add a 'b' for binary files.\n",
    "    header = f.readline()    # is string containing the first line in the file.\n",
    "    body = f.readlines()     # The variable \"lines\" is a list containing the remaining lines."
   ]
  },
  {
   "cell_type": "markdown",
   "metadata": {
    "slideshow": {
     "slide_type": "slide"
    }
   },
   "source": [
    "Every line you get this way ends in a newline character, `\\n`, so you'll often want to `strip()` it before doing anything with it."
   ]
  },
  {
   "cell_type": "code",
   "execution_count": 32,
   "metadata": {
    "collapsed": false,
    "slideshow": {
     "slide_type": "subslide"
    }
   },
   "outputs": [
    {
     "data": {
      "text/plain": [
       "{'ABENAKI FM': 3404.3112,\n",
       " 'Base O-Marker': 2469.207,\n",
       " 'DAWSON CANYON FM': 984.50402,\n",
       " 'LOGAN CANYON FM': 1136.904,\n",
       " 'Lower BACCARO': 3964.5337,\n",
       " 'Lower MISSISAUGA FM': 3190.6464,\n",
       " 'MID BACCARO': 3485.0832,\n",
       " 'Pay_sand_1-rft': 2478.0,\n",
       " 'TD': 4268.0,\n",
       " 'Upper MISSISAUGA FM': 2251.2529,\n",
       " 'WyanDot FM': 867.156,\n",
       " 'pay_sand_2': 2499.0,\n",
       " 'pay_sand_3': 2543.0,\n",
       " 'pay_sand_4': 2637.0,\n",
       " 'sand_5': 2699.0,\n",
       " 'sand_6': 2795.0,\n",
       " 'sand_7': 2835.0}"
      ]
     },
     "execution_count": 32,
     "metadata": {},
     "output_type": "execute_result"
    }
   ],
   "source": [
    "fname = 'data/L30_tops.txt'\n",
    "tops={}\n",
    "with open(fname) as f:\n",
    "    for line in f:\n",
    "        if not line.startswith('#'):\n",
    "            name, depth = line.strip().split(',')\n",
    "            tops[name] = float(depth)\n",
    "tops"
   ]
  },
  {
   "cell_type": "markdown",
   "metadata": {
    "slideshow": {
     "slide_type": "-"
    }
   },
   "source": [
    "----\n",
    "**Exercise** create a tops dictionary:\n",
    "\n",
    "* a) Modify the code snippet about to create a `dict` call tops, containing the formation name as the `key` and the `depth` as the value\n",
    "* b) What is the thickness between the `Wyandot FM` and the `Base O-Marker`?\n",
    "\n",
    "`tops['Base O-Marker'] - tops['WyanDot FM']`"
   ]
  },
  {
   "cell_type": "markdown",
   "metadata": {
    "slideshow": {
     "slide_type": "slide"
    }
   },
   "source": [
    "# Defining and calling functions\n",
    "\n",
    "the <code><font color=\"green\">def</font></code> statement"
   ]
  },
  {
   "cell_type": "code",
   "execution_count": null,
   "metadata": {
    "collapsed": false
   },
   "outputs": [],
   "source": [
    "def myfunc(args):\n",
    "    \"\"\"\n",
    "    Documentation string\n",
    "    \"\"\"\n",
    "    # statement\n",
    "    # statement\n",
    "    return "
   ]
  },
  {
   "cell_type": "markdown",
   "metadata": {},
   "source": [
    "<font color=\"#0A5394\">**\\*scope**</font>"
   ]
  },
  {
   "cell_type": "code",
   "execution_count": 36,
   "metadata": {
    "collapsed": true
   },
   "outputs": [],
   "source": [
    "def double(x):\n",
    "    \"\"\"takes a single input x and \n",
    "    returns double the input\"\"\"\n",
    "    y = x + x\n",
    "    return y"
   ]
  },
  {
   "cell_type": "code",
   "execution_count": 35,
   "metadata": {
    "collapsed": false
   },
   "outputs": [
    {
     "data": {
      "text/plain": [
       "'troubletrouble'"
      ]
     },
     "execution_count": 35,
     "metadata": {},
     "output_type": "execute_result"
    }
   ],
   "source": [
    "double(10)"
   ]
  },
  {
   "cell_type": "markdown",
   "metadata": {},
   "source": [
    "----\n",
    "\n",
    "**Exercise**: write a function that takes *two* numbers as inputs and returns the sum of those two numbers"
   ]
  },
  {
   "cell_type": "code",
   "execution_count": 37,
   "metadata": {
    "collapsed": true
   },
   "outputs": [],
   "source": [
    "# your code here"
   ]
  },
  {
   "cell_type": "markdown",
   "metadata": {},
   "source": [
    "----\n",
    "\n",
    "**Exercise**: write a function called `vshale` that that converts the list of `gamma` into a Vshale measurement. Use 20 API for 100% sand and use 150 API for 100% shale"
   ]
  },
  {
   "cell_type": "code",
   "execution_count": null,
   "metadata": {
    "collapsed": false
   },
   "outputs": [],
   "source": [
    "def vshale(gamma, sand_end, shale_end):\n",
    "    # your code here\n",
    "    return # your output"
   ]
  },
  {
   "cell_type": "markdown",
   "metadata": {
    "slideshow": {
     "slide_type": "slide"
    }
   },
   "source": [
    "----\n",
    "\n",
    "**Exercise**: write a function called `process_tops` that takes a\n",
    "filename as input and return a dictionary of the tops"
   ]
  },
  {
   "cell_type": "code",
   "execution_count": null,
   "metadata": {
    "collapsed": true,
    "slideshow": {
     "slide_type": "slide"
    }
   },
   "outputs": [],
   "source": [
    "topsfile = 'data/L30_tops.txt'\n",
    "\n",
    "def process_tops(file):\n",
    "    \"\"\"\n",
    "    Takes a file as input and returns a dictionary of tops\n",
    "    f : a filename path\n",
    "    \"\"\"\n",
    "    # Enter code here\n",
    "    return my_tops"
   ]
  },
  {
   "cell_type": "code",
   "execution_count": null,
   "metadata": {
    "collapsed": true
   },
   "outputs": [],
   "source": [
    "process_tops(topsfile)"
   ]
  },
  {
   "cell_type": "code",
   "execution_count": 45,
   "metadata": {
    "collapsed": false
   },
   "outputs": [
    {
     "data": {
      "image/png": "[encoded data removed]",
      "text/plain": [
       "<matplotlib.figure.Figure at 0x10a3ffb00>"
      ]
     },
     "metadata": {},
     "output_type": "display_data"
    }
   ],
   "source": [
    "import numpy as np\n",
    "import matplotlib.pyplot as plt\n",
    "\n",
    "% matplotlib inline\n",
    "\n",
    "topo = np.load('data/topography.npy')\n",
    "plt.imshow(topo)\n",
    "plt.show()"
   ]
  },
  {
   "cell_type": "markdown",
   "metadata": {},
   "source": [
    "# Writing and running programs\n",
    "\n",
    "Put the previous function in a text file and give it the name, `utils.py`"
   ]
  },
  {
   "cell_type": "markdown",
   "metadata": {},
   "source": [
    "## Your first module"
   ]
  },
  {
   "cell_type": "code",
   "execution_count": null,
   "metadata": {
    "collapsed": false
   },
   "outputs": [],
   "source": [
    "topsfile = 'data/L30_tops.txt'\n",
    "tops = utils.process_tops(topsfile)"
   ]
  },
  {
   "cell_type": "markdown",
   "metadata": {
    "slideshow": {
     "slide_type": "slide"
    }
   },
   "source": [
    "## ... from delimited files"
   ]
  },
  {
   "cell_type": "code",
   "execution_count": 47,
   "metadata": {
    "collapsed": false
   },
   "outputs": [
    {
     "name": "stdout",
     "output_type": "stream",
     "text": [
      "{'name': 'Cambrian (C)', 'start': '544', 'end': '495'}\n",
      "{'name': 'Ordivician (O)', 'start': '495', 'end': '492'}\n",
      "{'name': 'Silurian (S)', 'start': '442', 'end': '416'}\n",
      "{'name': 'Devonian (D)', 'start': '416', 'end': '354'}\n",
      "{'name': 'Mississipian (M)', 'start': '354', 'end': '324'}\n",
      "{'name': 'Pennsylvanian (IP', 'start': '324', 'end': '295'}\n",
      "{'name': 'Permian (P)', 'start': '304', 'end': '248'}\n",
      "{'name': 'Triassic (Tr)', 'start': '248', 'end': '205'}\n",
      "{'name': 'Jurassic (J)', 'start': '205', 'end': '144'}\n",
      "{'name': 'Cretaceous (C)', 'start': '160', 'end': '65'}\n",
      "{'name': 'Tertiary (T)', 'start': '65', 'end': '1.8'}\n",
      "{'name': 'Quaternary (Q)', 'start': '1.8', 'end': '0'}\n"
     ]
    }
   ],
   "source": [
    "import csv\n",
    "with open('data/periods.csv', 'r') as f:\n",
    "    reader = csv.DictReader(f, delimiter=',')\n",
    "    for row in reader:\n",
    "        print (row)"
   ]
  },
  {
   "cell_type": "markdown",
   "metadata": {
    "slideshow": {
     "slide_type": "slide"
    }
   },
   "source": [
    "You can write out a delimited data using `csv.writer`:"
   ]
  },
  {
   "cell_type": "code",
   "execution_count": 48,
   "metadata": {
    "collapsed": false
   },
   "outputs": [],
   "source": [
    "my_tops = {'GOC' : 1200.0 , 'OWC' : 1300.0, 'Top Reservoir' : 1100.0}\n",
    "\n",
    "with open('comma_delimited_stock_prices.txt', 'w') as f:\n",
    "    writer = csv.writer(f, delimiter=',')\n",
    "    for name, depth in my_tops.items():\n",
    "        writer.writerow([name, depth])"
   ]
  },
  {
   "cell_type": "markdown",
   "metadata": {
    "slideshow": {
     "slide_type": "slide"
    }
   },
   "source": [
    "## ... from the web"
   ]
  },
  {
   "cell_type": "markdown",
   "metadata": {},
   "source": [
    "Use View Source in your browser to figure out where the age range is on the page, and what it looks like.\n",
    "\n",
    "Try to find the same string here."
   ]
  },
  {
   "cell_type": "code",
   "execution_count": null,
   "metadata": {
    "collapsed": false
   },
   "outputs": [],
   "source": [
    "url = \"http://en.wikipedia.org/wiki/Cretaceous\""
   ]
  },
  {
   "cell_type": "code",
   "execution_count": null,
   "metadata": {
    "collapsed": true
   },
   "outputs": [],
   "source": [
    "import requests\n",
    "r = requests.get(url)\n",
    "r.text[:2000]"
   ]
  },
  {
   "cell_type": "markdown",
   "metadata": {
    "slideshow": {
     "slide_type": "slide"
    }
   },
   "source": [
    "Using a [regular expression](https://docs.python.org/2/library/re.html):"
   ]
  },
  {
   "cell_type": "code",
   "execution_count": null,
   "metadata": {
    "collapsed": false
   },
   "outputs": [],
   "source": [
    "import re\n",
    "\n",
    "s = re.search(r'<i>(.+?million years ago)</i>', r.text)\n",
    "text = s.group(1)"
   ]
  },
  {
   "cell_type": "markdown",
   "metadata": {
    "slideshow": {
     "slide_type": "slide"
    }
   },
   "source": [
    "## Using built-in functions"
   ]
  },
  {
   "cell_type": "markdown",
   "metadata": {
    "slideshow": {
     "slide_type": "slide"
    }
   },
   "source": [
    "## Importing modules\n",
    "\n",
    "the <code><font color=\"green\">import</font></code> statement\n"
   ]
  },
  {
   "cell_type": "code",
   "execution_count": null,
   "metadata": {
    "collapsed": true
   },
   "outputs": [],
   "source": [
    "import this"
   ]
  },
  {
   "cell_type": "markdown",
   "metadata": {
    "slideshow": {
     "slide_type": "slide"
    }
   },
   "source": [
    "## The Python standard library"
   ]
  },
  {
   "cell_type": "markdown",
   "metadata": {},
   "source": [
    "[Built-in functions](https://docs.python.org/3/library/functions.html)\n",
    "\n",
    "[Built-in Types](https://docs.python.org/3/library/stdtypes.html)\n",
    "\n",
    "[docs.python.org](https://docs.python.org/3/library/)"
   ]
  },
  {
   "cell_type": "code",
   "execution_count": null,
   "metadata": {
    "collapsed": false
   },
   "outputs": [],
   "source": [
    "import datetime"
   ]
  },
  {
   "cell_type": "markdown",
   "metadata": {
    "slideshow": {
     "slide_type": "slide"
    }
   },
   "source": [
    "## External python packages\n",
    "\n",
    "The Python Package Index, [PyPI](https://pypi.python.org/pypi)"
   ]
  },
  {
   "cell_type": "markdown",
   "metadata": {},
   "source": [
    "* [SciPy](http://www.scipy.org/) -  a collection of often-used libraries"
   ]
  }
 ],
 "metadata": {
  "anaconda-cloud": {},
  "kernelspec": {
   "display_name": "Python [Root]",
   "language": "python",
   "name": "Python [Root]"
  },
  "language_info": {
   "codemirror_mode": {
    "name": "ipython",
    "version": 3
   },
   "file_extension": ".py",
   "mimetype": "text/x-python",
   "name": "python",
   "nbconvert_exporter": "python",
   "pygments_lexer": "ipython3",
   "version": "3.5.2"
  }
 },
 "nbformat": 4,
 "nbformat_minor": 0
}
