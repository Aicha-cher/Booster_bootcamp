{
 "cells": [
  {
   "cell_type": "markdown",
   "metadata": {
    "slideshow": {
     "slide_type": "slide"
    }
   },
   "source": [
    "## EXERCISE: Seismic – an array of numbers"
   ]
  },
  {
   "cell_type": "markdown",
   "metadata": {
    "slideshow": {
     "slide_type": "-"
    }
   },
   "source": [
    "The numpy array object"
   ]
  },
  {
   "cell_type": "code",
   "execution_count": 2,
   "metadata": {
    "collapsed": false,
    "slideshow": {
     "slide_type": "slide"
    }
   },
   "outputs": [],
   "source": [
    "import numpy as np\n",
    "import matplotlib.pyplot as plt\n",
    "% matplotlib inline"
   ]
  },
  {
   "cell_type": "markdown",
   "metadata": {
    "slideshow": {
     "slide_type": "slide"
    }
   },
   "source": [
    "----\n",
    "**Exercise**:\n",
    "\n",
    "This exercise requires the file called `seismic_cube.txt` (120 MB). [Download it](https://dl.dropboxusercontent.com/u/14927133/seismic_cube.txt) and place it in your data folder,  \n",
    "\n",
    "a) Use `np.loadtxt(...)` to load the text file named `data/seismic_cube.txt` into an numpy array called `data`\n",
    "\n",
    "b) How many dimensions does this `data` array have?\n",
    "\n",
    "c) How many elements does `data` have in each dimension (`np.shape`)?\n",
    "\n",
    "d) How much space does this object take up in memory?\n",
    "\n",
    "e) How much time did it take? (seconds) (`import time`)"
   ]
  },
  {
   "cell_type": "code",
   "execution_count": null,
   "metadata": {
    "collapsed": true,
    "slideshow": {
     "slide_type": "-"
    }
   },
   "outputs": [],
   "source": []
  },
  {
   "cell_type": "code",
   "execution_count": 6,
   "metadata": {
    "collapsed": false,
    "slideshow": {
     "slide_type": "slide"
    }
   },
   "outputs": [
    {
     "name": "stdout",
     "output_type": "stream",
     "text": [
      "Time taken to read volume: 28.64 seconds.\n"
     ]
    }
   ],
   "source": [
    "import time\n",
    "start = time.time()\n",
    " \n",
    "data = np.loadtxt('data/seismic_cube.txt')\n",
    " \n",
    "end = time.time()\n",
    "elapsed = end - start\n",
    "print(\"Time taken to read volume: {:.2f} seconds.\".format(elapsed))"
   ]
  },
  {
   "cell_type": "markdown",
   "metadata": {
    "slideshow": {
     "slide_type": "slide"
    }
   },
   "source": [
    "Some information about the seismic cube:\n",
    "\n",
    "- Number of inlines: `194`\n",
    "\n",
    "- Number of crosslines: `299`\n",
    "\n",
    "- Number of samples per trace: `463`\n",
    "\n",
    "- Sample rate in seconds: `0.004`\n",
    "\n",
    "_I'm giving you this information, but in practice, this would probably come from the file's header or meta-data section_"
   ]
  },
  {
   "cell_type": "code",
   "execution_count": 4,
   "metadata": {
    "collapsed": true,
    "slideshow": {
     "slide_type": "slide"
    }
   },
   "outputs": [],
   "source": [
    "nIL = 194  # number of inlines\n",
    "nXL = 299  # number of crosslines\n",
    "nt = 463   # number of samples per trace\n",
    "dt = 0.004 # sample rate in seconds"
   ]
  },
  {
   "cell_type": "markdown",
   "metadata": {
    "slideshow": {
     "slide_type": "slide"
    }
   },
   "source": [
    "----\n",
    "**Exercise**: Use numpy's reshape function to turn this this array into a 3D array. Print the `shape` attribute of the reshaped object to verify that this object has the correct number of inlines and crosslines"
   ]
  },
  {
   "cell_type": "code",
   "execution_count": null,
   "metadata": {
    "collapsed": false,
    "slideshow": {
     "slide_type": "subslide"
    }
   },
   "outputs": [],
   "source": [
    "# enter your code here\n"
   ]
  },
  {
   "cell_type": "markdown",
   "metadata": {
    "slideshow": {
     "slide_type": "slide"
    }
   },
   "source": [
    "----\n",
    "**Exercise**: Get rid of some bad data for the last few samples on each trace; take the first 450 samples (of the last dimension)"
   ]
  },
  {
   "cell_type": "code",
   "execution_count": 8,
   "metadata": {
    "collapsed": true,
    "slideshow": {
     "slide_type": "subslide"
    }
   },
   "outputs": [],
   "source": [
    "# enter your code here\n"
   ]
  },
  {
   "cell_type": "markdown",
   "metadata": {
    "slideshow": {
     "slide_type": "slide"
    }
   },
   "source": [
    "----\n",
    "**Exercise**: create a new object called `xline` find the middle trace on crossline 150\n",
    "\n",
    "- What are the dimensions of `xline`\n",
    "- Make a plot of `xline` using plt.imshow(xline)\n",
    "- Pass an argument into the `imshow` function change the ugly default to your [favourite colourbar](http://matplotlib.org/examples/color/colormaps_reference.html)! \n",
    "- Is there anything funny / wrong / interesting about the line? Can you fix it?\n",
    "- Use matplotlib.pyplot's `figure` function to make a figure object, `fig`"
   ]
  },
  {
   "cell_type": "markdown",
   "metadata": {},
   "source": [
    "![Crossline149](images/Crossline149.png)"
   ]
  },
  {
   "cell_type": "markdown",
   "metadata": {
    "slideshow": {
     "slide_type": "slide"
    }
   },
   "source": [
    "----\n",
    "**Exercise**: grab the trace in the middel of `xline` to answer the following questions\n",
    "\n",
    "a) How many time samples are in this trace?\n",
    "\n",
    "b) What is the range of peak to peak values of the trace?\n",
    "\n",
    "c) what is the maximum value along this trace? And where is it located?\n",
    "\n",
    "d) what is the minumum value along this trace? And where is it located?\n",
    "\n",
    "e) Seismic traces should have a mean value close to zero. Does this trace have  seismic trace that is close to zero? "
   ]
  },
  {
   "cell_type": "code",
   "execution_count": 30,
   "metadata": {
    "collapsed": false,
    "slideshow": {
     "slide_type": "fragment"
    }
   },
   "outputs": [
    {
     "data": {
      "text/plain": [
       "(450,)"
      ]
     },
     "execution_count": 30,
     "metadata": {},
     "output_type": "execute_result"
    }
   ],
   "source": [
    "s = xline[int(line.shape[0]/2),...]\n",
    "s.shape"
   ]
  },
  {
   "cell_type": "code",
   "execution_count": 31,
   "metadata": {
    "collapsed": false,
    "slideshow": {
     "slide_type": "slide"
    }
   },
   "outputs": [
    {
     "data": {
      "image/png": "[encoded data removed]",
      "text/plain": [
       "<matplotlib.figure.Figure at 0x13f3eca20>"
      ]
     },
     "metadata": {},
     "output_type": "display_data"
    }
   ],
   "source": [
    "%matplotlib inline\n",
    "t = np.arange(0, 450 * 4, 4)\n",
    "a = 12\n",
    "#\n",
    "fig = plt.figure(figsize=(3,9), facecolor='w')\n",
    "ax = fig.add_axes([0.1, 0.1, 0.8, 0.8])\n",
    "ax.plot(s,t, 'g--')\n",
    "ax.set_xlim(-a*s.std(), a*s.std())\n",
    "ax.grid()\n",
    "\n",
    "fig.savefig('dotted_green.png', dpi=300)\n",
    "\n",
    "#plt.plot(s, t) #, 'g*', lw=2.0, alpha=0.25)\n",
    "#plt.xlim(-2.0*s.std(), 2.0*s.std())"
   ]
  },
  {
   "cell_type": "markdown",
   "metadata": {},
   "source": [
    "----\n",
    "**Exercise**: Plot this seismic trace (vertically!)\n",
    "    \n",
    "    - make a \"time axis\": `np.arange(first_sample, last_sample, sample_rate)\n",
    "    \n",
    "    - use matplotlib's `plt.plot` function (documentation!)\n",
    "    \n",
    "    - other `plt` functions to check out: `plt.xlim`, `plt.title`, `plt.ylabel`, `plt.invert_yaxis()`, 'plt.grid`"
   ]
  },
  {
   "cell_type": "markdown",
   "metadata": {
    "slideshow": {
     "slide_type": "slide"
    }
   },
   "source": [
    "# Trace statistics"
   ]
  },
  {
   "cell_type": "markdown",
   "metadata": {},
   "source": [
    "----\n",
    "**Exercise**: use the `plt.hist(s, bins)` function to create a histogram with 100 bins"
   ]
  },
  {
   "cell_type": "markdown",
   "metadata": {},
   "source": [
    "As suspected, most of the data values are close to zero, and fan outward (more or less symmetrically) to larger positive and negative values.\n",
    "\n",
    "To be sure, we can include the values from the entire line to build up better statitics. However, in order to pass a 2D array to the <code>plt.hist</code> function, we have to unravel it first,"
   ]
  },
  {
   "cell_type": "markdown",
   "metadata": {},
   "source": [
    "## Trace Bandwidth"
   ]
  },
  {
   "cell_type": "markdown",
   "metadata": {},
   "source": [
    "Let's look at the frequency content of this trace. To do this we will need to use the the fast fourier transform function from the Scipy FFT module. It helps to know that the sample rate of the trace is 0.04 s"
   ]
  },
  {
   "cell_type": "code",
   "execution_count": 32,
   "metadata": {
    "collapsed": true
   },
   "outputs": [],
   "source": [
    "from scipy import fft\n",
    "S = abs(fft(s))\n",
    "power = 20*np.log10(a)\n",
    "faxis = np.fft.fftfreq( len(power), d = dt)"
   ]
  },
  {
   "cell_type": "markdown",
   "metadata": {},
   "source": [
    "----\n",
    "**Exercise**: Plot the power spectrum (frequency on the time axis). For bonus points, plot it on a log base 10 scale (Decibel)"
   ]
  },
  {
   "cell_type": "code",
   "execution_count": null,
   "metadata": {
    "collapsed": true
   },
   "outputs": [],
   "source": []
  },
  {
   "cell_type": "markdown",
   "metadata": {},
   "source": [
    "----\n",
    "**Exercise**: write a loop to plot the power spectrum all the traces"
   ]
  },
  {
   "cell_type": "code",
   "execution_count": null,
   "metadata": {
    "collapsed": true
   },
   "outputs": [],
   "source": []
  },
  {
   "cell_type": "markdown",
   "metadata": {},
   "source": [
    "## Plot the entire line"
   ]
  },
  {
   "cell_type": "markdown",
   "metadata": {},
   "source": [
    "Exercise: plot the 2D line (any 2D matrix can be shown as an image)\n",
    "    \n",
    "`plt.imshow(...)`"
   ]
  },
  {
   "cell_type": "code",
   "execution_count": null,
   "metadata": {
    "collapsed": true
   },
   "outputs": [],
   "source": []
  }
 ],
 "metadata": {
  "anaconda-cloud": {},
  "celltoolbar": "Slideshow",
  "kernelspec": {
   "display_name": "Python [Root]",
   "language": "python",
   "name": "Python [Root]"
  },
  "language_info": {
   "codemirror_mode": {
    "name": "ipython",
    "version": 3
   },
   "file_extension": ".py",
   "mimetype": "text/x-python",
   "name": "python",
   "nbconvert_exporter": "python",
   "pygments_lexer": "ipython3",
   "version": "3.5.2"
  }
 },
 "nbformat": 4,
 "nbformat_minor": 0
}
