{
 "cells": [
  {
   "cell_type": "markdown",
   "metadata": {},
   "source": [
    "# Index"
   ]
  },
  {
   "cell_type": "markdown",
   "metadata": {
    "slideshow": {
     "slide_type": "slide"
    }
   },
   "source": [
    "## Part 1:\n",
    "* [Fundamentals_of_Programming](Part1a_Fundamentals_of_Programming.ipynb)\n",
    "* [Intro to scientific computing](Part1b_Intro_to_scientific_computing.ipynb)\n",
    "\n",
    "\n",
    "## Part 2:\n",
    "\n",
    "* [Option A: Well log calculations](Part2a__Well_log_calculations.ipynb)\n",
    "* [Option B: Synthetic seismogram](Part2b__Synthetic_seismogram.ipynb)\n",
    "* [Option C: Seismic arrays](Part2c__Seismic_arrays.ipynb)\n"
   ]
  },
  {
   "cell_type": "markdown",
   "metadata": {
    "slideshow": {
     "slide_type": "slide"
    }
   },
   "source": [
    "# Some Principles\n",
    "\n",
    "- Coding is not a spectator sport\n",
    "\n",
    "- You can't get fit overnight\n",
    "\n",
    "- There are many ways to solve problems.\n",
    "\n",
    "- Distinction between language syntax and fundamental concepts\n",
    "\n",
    "- Software development versus Scientific computating (them vs you).\n",
    "\n",
    "- Everything you need to know is on the web."
   ]
  },
  {
   "cell_type": "markdown",
   "metadata": {
    "collapsed": true,
    "slideshow": {
     "slide_type": "slide"
    }
   },
   "source": [
    "# What is this course about?\n",
    "\n",
    "- Practice, participation\n",
    "\n",
    "- How to do things from scratch\n",
    "\n",
    "- How to not do everything from scratch\n",
    "\n",
    "- Teaching programming concepts\n",
    "\n",
    "- Why open source is awesome and nessecarily for SCIENCE."
   ]
  },
  {
   "cell_type": "markdown",
   "metadata": {
    "slideshow": {
     "slide_type": "slide"
    }
   },
   "source": [
    "# What is this course not about\n",
    "\n",
    "- Desktop software applications\n",
    "\n",
    "- Turning scientists into software developers \n",
    "\n",
    "- Proprietary programming languages"
   ]
  },
  {
   "cell_type": "markdown",
   "metadata": {
    "slideshow": {
     "slide_type": "slide"
    }
   },
   "source": [
    "# We don't get into a lot of detail\n",
    "\n",
    "- Version control\n",
    "\n",
    "- Testing (TDD)\n",
    "\n",
    "- Errors and Exceptions\n",
    "\n",
    "- Object Oriented Programming\n",
    "\n",
    "- Pros and Cons of different programming languages."
   ]
  },
  {
   "cell_type": "markdown",
   "metadata": {
    "slideshow": {
     "slide_type": "skip"
    }
   },
   "source": [
    "## Resources\n",
    "* Notebooks and blog posts from Agile Geoscience\n",
    "* The Leading Edge tutorial series\n",
    "\n",
    "## Noteworthy code libraries\n",
    "* Pandas: toolkit for labelled and structured data structures\n",
    "* Obspy: for reading / writing SEGY (seismic) files\n",
    "* Welly: for reading  /writing LAS (well logs) files\n",
    "* Shapely, Fiona, GeoPandas, OGR, GDAL: for GIS \n",
    "* Bokeh, Chaco, and PyQT: for UI and widgets\n",
    "* Vispy and Mayavi: for 3D visualization\n",
    "\n",
    "## Open source projects\n",
    "* Bruges\n",
    "* Seisplot\n",
    "* Fatiando e Terra\n",
    "* SimPEGG"
   ]
  }
 ],
 "metadata": {
  "anaconda-cloud": {},
  "celltoolbar": "Slideshow",
  "kernelspec": {
   "display_name": "Python [Root]",
   "language": "python",
   "name": "Python [Root]"
  },
  "language_info": {
   "codemirror_mode": {
    "name": "ipython",
    "version": 3
   },
   "file_extension": ".py",
   "mimetype": "text/x-python",
   "name": "python",
   "nbconvert_exporter": "python",
   "pygments_lexer": "ipython3",
   "version": "3.5.2"
  }
 },
 "nbformat": 4,
 "nbformat_minor": 0
}
