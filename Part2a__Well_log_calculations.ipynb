{
 "cells": [
  {
   "cell_type": "markdown",
   "metadata": {},
   "source": [
    "# EXERCISE — well log calculations\n",
    "\n",
    "This notebook looks at reading a well log, performing some petrophysical calculations.\n",
    "\n",
    "First, the usual preliminaries."
   ]
  },
  {
   "cell_type": "code",
   "execution_count": 1,
   "metadata": {
    "collapsed": false
   },
   "outputs": [],
   "source": [
    "import numpy as np\n",
    "import matplotlib.pyplot as plt\n",
    "from welly import Well\n",
    "\n",
    "% matplotlib inline"
   ]
  },
  {
   "cell_type": "code",
   "execution_count": 2,
   "metadata": {
    "collapsed": false
   },
   "outputs": [
    {
     "name": "stdout",
     "output_type": "stream",
     "text": [
      "Build_and_test_environment.ipynb\r\n",
      "\u001b[31mIndex.ipynb\u001b[m\u001b[m*\r\n",
      "LICENSE\r\n",
      "Part1a_Fundamentals_of_Programming.ipynb\r\n",
      "\u001b[31mPart1b_Intro_to_scientific_computing.ipynb\u001b[m\u001b[m*\r\n",
      "Part2a__Well_log_calculations.ipynb\r\n",
      "Part2b__Synthetic_seismogram.ipynb\r\n",
      "\u001b[31mPart2c__Seismic_arrays.ipynb\u001b[m\u001b[m*\r\n",
      "README.md\r\n",
      "\u001b[34mdata\u001b[m\u001b[m/\r\n",
      "environment.yml\r\n",
      "\u001b[34mscripts\u001b[m\u001b[m/\r\n"
     ]
    }
   ],
   "source": [
    "ls"
   ]
  },
  {
   "cell_type": "code",
   "execution_count": 4,
   "metadata": {
    "collapsed": false
   },
   "outputs": [],
   "source": [
    "data_dir = 'data/'\n",
    "fname = 'L30.las'\n",
    "file = data_dir + '/' + fname"
   ]
  },
  {
   "cell_type": "markdown",
   "metadata": {},
   "source": [
    "# Q: from welly's `Well` module, use the `from_las` function to create a well object from the las file"
   ]
  },
  {
   "cell_type": "code",
   "execution_count": null,
   "metadata": {
    "collapsed": true
   },
   "outputs": [],
   "source": [
    "# your code here"
   ]
  },
  {
   "cell_type": "code",
   "execution_count": 6,
   "metadata": {
    "collapsed": false
   },
   "outputs": [
    {
     "data": {
      "text/html": [
       "<table><tr><th style=\"text-align:center;\" colspan=\"2\">PENOBSCOT L-30<br><small></small></th></tr><tr><td><strong>td</strong></td><td>None</td></tr><tr><td><strong>crs</strong></td><td>CRS({})</td></tr><tr><td><strong>county</strong></td><td>NOVA SCOTIA SHELF</td></tr><tr><td><strong>location</strong></td><td>44deg 09' 43.558\"N LAT|60deg 04' 0</td></tr><tr><td><strong>data</strong></td><td>CALD, CALS, DRHO, DT, GRD, GRS, ILD, ILM, LL8, NPHILS, NPHISS, RHOB, SP</td></tr></table>"
      ],
      "text/plain": [
       "<welly.well.Well at 0x10ea4cf28>"
      ]
     },
     "execution_count": 6,
     "metadata": {},
     "output_type": "execute_result"
    }
   ],
   "source": [
    "# it should looks like this\n",
    "well"
   ]
  },
  {
   "cell_type": "code",
   "execution_count": 9,
   "metadata": {
    "collapsed": false
   },
   "outputs": [],
   "source": [
    "pslow = well.data['DT']\n",
    "rhob = well.data['RHOB']\n",
    "gr = well.data['GRD']"
   ]
  },
  {
   "cell_type": "markdown",
   "metadata": {},
   "source": [
    "## Q. Write a function that converts slowness (us/m) into velocity (m/s) your code here"
   ]
  },
  {
   "cell_type": "code",
   "execution_count": null,
   "metadata": {
    "collapsed": true
   },
   "outputs": [],
   "source": [
    "# your code here"
   ]
  },
  {
   "cell_type": "markdown",
   "metadata": {},
   "source": [
    "## Q. Create an acoustic impedance log"
   ]
  },
  {
   "cell_type": "code",
   "execution_count": null,
   "metadata": {
    "collapsed": true
   },
   "outputs": [],
   "source": [
    "# your code here"
   ]
  },
  {
   "cell_type": "markdown",
   "metadata": {},
   "source": [
    "## Q. Using a Sand-Shale cutoff for Gamma-Ray of 60 API, what is the Gross sand thickness from 2200 - 3000 m?"
   ]
  },
  {
   "cell_type": "code",
   "execution_count": null,
   "metadata": {
    "collapsed": true
   },
   "outputs": [],
   "source": [
    "# your code here"
   ]
  },
  {
   "cell_type": "markdown",
   "metadata": {},
   "source": [
    "## Q. Use the porosity log, NPHISS to determine the average value of porosity for a) sands, b) shales, c) carbonates. \n",
    "\n"
   ]
  },
  {
   "cell_type": "code",
   "execution_count": null,
   "metadata": {
    "collapsed": true
   },
   "outputs": [],
   "source": [
    "# your code here"
   ]
  },
  {
   "cell_type": "markdown",
   "metadata": {},
   "source": [
    "## Q. Explore the data distributions based on the actual lithologies based in "
   ]
  },
  {
   "cell_type": "code",
   "execution_count": null,
   "metadata": {
    "collapsed": true
   },
   "outputs": [],
   "source": [
    "lithfile = 'data/L30_samples.txt'"
   ]
  }
 ],
 "metadata": {
  "anaconda-cloud": {},
  "kernelspec": {
   "display_name": "Python [Root]",
   "language": "python",
   "name": "Python [Root]"
  },
  "language_info": {
   "codemirror_mode": {
    "name": "ipython",
    "version": 3
   },
   "file_extension": ".py",
   "mimetype": "text/x-python",
   "name": "python",
   "nbconvert_exporter": "python",
   "pygments_lexer": "ipython3",
   "version": "3.5.2"
  }
 },
 "nbformat": 4,
 "nbformat_minor": 0
}
